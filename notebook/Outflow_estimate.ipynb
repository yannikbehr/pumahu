{
 "cells": [
  {
   "cell_type": "code",
   "execution_count": null,
   "metadata": {},
   "outputs": [],
   "source": [
    "%matplotlib inline\n",
    "import pandas as pd\n",
    "import matplotlib.pyplot as plt\n",
    "import numpy as np"
   ]
  },
  {
   "cell_type": "markdown",
   "metadata": {},
   "source": [
    "## Outflow from lake level drop after rain event"
   ]
  },
  {
   "cell_type": "code",
   "execution_count": null,
   "metadata": {},
   "outputs": [],
   "source": [
    "def df_resample(df):\n",
    "    \"\"\"\n",
    "    Resample dataframe to daily sample rate.\n",
    "    \"\"\"\n",
    "    # First upsample to 15 min intervals combined with a linear interpolation\n",
    "    ndates = pd.date_range(start=df.index.date[0], end=df.index.date[-1],\n",
    "                           freq='15T')\n",
    "    ndf = df.reindex(ndates, method='nearest',\n",
    "                     tolerance=np.timedelta64(15, 'm')).interpolate()\n",
    "    # Then downsample to 1 day intervals assigning the new values to mid day\n",
    "    #ndf = ndf.resample('1D', label='left', loffset='12H').mean()\n",
    "    ndf = ndf.resample('1D', label='left').mean()\n",
    "    return ndf\n"
   ]
  },
  {
   "cell_type": "code",
   "execution_count": null,
   "metadata": {},
   "outputs": [],
   "source": [
    "url = \"https://fits.geonet.org.nz/observation?siteID={}&networkID=VO&typeID=z\"\n",
    "names = ['h', 'h_err']\n",
    "ldf = pd.read_csv(url.format('RU001A'),\n",
    "                  index_col=0, names=names, skiprows=1,\n",
    "                  parse_dates=True)\n",
    "ldf1 = ldf.loc[(ldf.index > '2018-01-05 9:00:00') & (ldf.index < '2018-01-12')]\n",
    "ldf2 = ldf.loc[(ldf.index > '2018-02-01 14:00:00') & (ldf.index < '2018-02-08')]\n",
    "ldf3 = ldf.loc[(ldf.index > '2018-02-20 22:00:00') & (ldf.index < '2018-02-27')]\n",
    "ldf4 = ldf.loc[(ldf.index > '2018-03-07 19:00:00') & (ldf.index < '2018-03-12') ]\n",
    "plt.figure()\n",
    "ldf4['h'].plot()"
   ]
  },
  {
   "cell_type": "code",
   "execution_count": null,
   "metadata": {},
   "outputs": [],
   "source": [
    "plt.figure()\n",
    "ldf['h'].loc[(ldf.index > '2017-11-01') & (ldf.index < '2018-04-2') ].plot()\n",
    "#ldf['h'].plot()"
   ]
  },
  {
   "cell_type": "code",
   "execution_count": null,
   "metadata": {},
   "outputs": [],
   "source": [
    "def normalize(vals):\n",
    "    return (vals - vals.min())/(vals.max()-vals.min())"
   ]
  },
  {
   "cell_type": "code",
   "execution_count": null,
   "metadata": {},
   "outputs": [],
   "source": [
    "rldf1 = df_resample(ldf1)\n",
    "rldf2 = df_resample(ldf2)\n",
    "rldf3 = df_resample(ldf3)\n",
    "rldf4 = df_resample(ldf4)\n",
    "rldf4 = rldf4.reindex(pd.date_range(start=rldf4.index[0], periods=7))\n",
    "\n",
    "ndf = pd.DataFrame({'h1': rldf1['h'].values,\n",
    "                    'h2': rldf2['h'].values,\n",
    "                    'h3': rldf3['h'].values,\n",
    "                    'h4': rldf4['h'].values}, index=rldf1.index)\n",
    "if False:\n",
    "    ndf = pd.DataFrame({'h1': rldf1['h'].values,\n",
    "                        'h2': rldf2['h'].values,\n",
    "                        'h3': rldf3['h'].values}, index=rldf1.index)\n",
    "mn = ndf.mean(axis=1, skipna=True)\n",
    "std = ndf.std(axis=1, skipna=True)\n",
    "fig = plt.figure()\n",
    "ax = fig.add_subplot(111)\n",
    "x = np.arange(mn.size)\n",
    "ax.fill_between(x, mn+std, mn-std, color='red', alpha=0.5)\n",
    "ax.plot(x, mn, 'r--')\n",
    "ndf.plot(ax=ax, use_index=False, legend=False, color='k')"
   ]
  },
  {
   "cell_type": "code",
   "execution_count": null,
   "metadata": {},
   "outputs": [],
   "source": [
    "import pymc3 as pm"
   ]
  },
  {
   "cell_type": "code",
   "execution_count": null,
   "metadata": {},
   "outputs": [],
   "source": [
    "\n",
    "basic_model = pm.Model()\n",
    "\n",
    "with basic_model:\n",
    "    lambda_ = pm.Uniform('lambda',0., 2.)\n",
    "    v0 = pm.Uniform('v0', 2, 3)\n",
    "    os = pm.Normal('offset', mu=2.0, sd=0.1)\n",
    "    g = os + (v0-os)*np.exp(-lambda_*x)\n",
    "    d_obs = pm.Normal('d_obs', mu=g, sd=std.values, observed=mn)\n",
    "    trace = pm.sample(chains=4)"
   ]
  },
  {
   "cell_type": "code",
   "execution_count": null,
   "metadata": {},
   "outputs": [],
   "source": [
    "_ = pm.traceplot(trace)"
   ]
  },
  {
   "cell_type": "code",
   "execution_count": null,
   "metadata": {},
   "outputs": [],
   "source": [
    "print(trace['lambda'].mean(), trace['lambda'].std())\n",
    "print(trace['offset'].mean(), trace['offset'].std())"
   ]
  },
  {
   "cell_type": "code",
   "execution_count": null,
   "metadata": {},
   "outputs": [],
   "source": [
    "nresample=200\n",
    "ppc = pm.sample_ppc(trace, samples=nresample, model=basic_model)"
   ]
  },
  {
   "cell_type": "code",
   "execution_count": null,
   "metadata": {},
   "outputs": [],
   "source": [
    "mn_ppc = ppc['d_obs'].mean(axis=0)\n",
    "std_ppc = ppc['d_obs'].std(axis=0)\n",
    "fig = plt.figure()\n",
    "ax = fig.add_subplot(111)\n",
    "x = np.arange(mn_ppc.size)\n",
    "ax.fill_between(x, mn_ppc+std_ppc, mn_ppc-std_ppc, color='red', alpha=0.5)\n",
    "ax.plot(x, mn_ppc, 'r--')\n",
    "ndf.plot(ax=ax, use_index=False, legend=False, color='k')"
   ]
  },
  {
   "cell_type": "code",
   "execution_count": null,
   "metadata": {},
   "outputs": [],
   "source": [
    "from clemb.forward_model import fullness\n",
    "\n",
    "i = 0\n",
    "len_trace = len(trace)\n",
    "nchain = trace.nchains\n",
    "nsamples=600\n",
    "outflow = np.zeros((nsamples, ppc['d_obs'].shape[1]))\n",
    "indices = np.random.randint(0, nchain*len_trace, nsamples)\n",
    "for idx in indices:\n",
    "    chain_idx, point_idx = np.divmod(idx, len_trace)\n",
    "    param = trace._straces[chain_idx].point(point_idx)\n",
    "    _l = param['lambda']\n",
    "    _o = param['offset']\n",
    "    _d = d_obs.distribution.random(point=param)\n",
    "    ll = _d - _o\n",
    "    a, vol = fullness(ll+2529.35)\n",
    "    nvol = a*ll*1e3 # volume in liters\n",
    "    dvol = nvol*_l # l/day\n",
    "    dvol /= 86400 # l/s\n",
    "    outflow[i] = dvol\n",
    "    i += 1\n",
    "fig = plt.figure()\n",
    "ax = fig.add_subplot(111)\n",
    "mn_outf = outflow.mean(axis=0)\n",
    "std_outf = outflow.std(axis=0)\n",
    "x = np.arange(mn_outf.size)\n",
    "ax.fill_between(x, mn_outf+std_outf, mn_outf-std_outf, color='red', alpha=0.5)\n",
    "ax.plot(x, mn_outf, 'r--')\n",
    "ax.set_yticks(np.arange(0, 450,50))\n",
    "ax.grid()\n"
   ]
  },
  {
   "cell_type": "code",
   "execution_count": null,
   "metadata": {},
   "outputs": [],
   "source": []
  },
  {
   "cell_type": "code",
   "execution_count": null,
   "metadata": {},
   "outputs": [],
   "source": [
    "trace[100]"
   ]
  },
  {
   "cell_type": "code",
   "execution_count": null,
   "metadata": {},
   "outputs": [],
   "source": [
    "np.pi*(500.*500.)"
   ]
  },
  {
   "cell_type": "markdown",
   "metadata": {},
   "source": [
    "### Nested Sampling"
   ]
  },
  {
   "cell_type": "code",
   "execution_count": null,
   "metadata": {},
   "outputs": [],
   "source": [
    "from sampling import NestedSampling, Uniform, Callback, Normal, SamplingException"
   ]
  },
  {
   "cell_type": "code",
   "execution_count": null,
   "metadata": {},
   "outputs": [],
   "source": [
    "class PyCallback(Callback):\n",
    "    \n",
    "    def __init__(self):\n",
    "        Callback.__init__(self)\n",
    "        \n",
    "    def set_data(self, x, d, prec):\n",
    "        self.x = x\n",
    "        self.d = d\n",
    "        self.prec = prec\n",
    "\n",
    "    def run(self, vals):\n",
    "        lambda_ = vals[0]\n",
    "        v0 = vals[1]\n",
    "        offset = vals[2]\n",
    "        try:\n",
    "            g = offset + (v0-offset)*np.exp(-lambda_*self.x)\n",
    "            lh = -0.5*np.dot(self.d-g,np.dot(self.prec,self.d-g))\n",
    "        except Exception as err:\n",
    "            print(err)\n",
    "            raise SamplingException()\n",
    "        return lh"
   ]
  },
  {
   "cell_type": "code",
   "execution_count": null,
   "metadata": {},
   "outputs": [],
   "source": [
    "pycb = PyCallback()\n",
    "pycb.set_data(x, mn.values, 1./(std.values*std.values) *np.eye(x.size))\n",
    "pycb.run((0.5,2.25, 2))"
   ]
  },
  {
   "cell_type": "code",
   "execution_count": null,
   "metadata": {},
   "outputs": [],
   "source": [
    "l = Uniform('lambda', 0, 2)\n",
    "v = Uniform('v0', 2, 3)\n",
    "os = Normal('offset', 2.0, 0.1)\n",
    "ns = NestedSampling()\n",
    "pycb.__disown__()\n",
    "ns.setCallback(pycb)\n",
    "nsamples = 1000\n",
    "rs = ns.explore(vars=[l, v, os], initial_samples=100,\n",
    "                        maximum_steps=nsamples)"
   ]
  },
  {
   "cell_type": "code",
   "execution_count": null,
   "metadata": {},
   "outputs": [],
   "source": [
    "rs1 = rs.resample_posterior(100)"
   ]
  },
  {
   "cell_type": "code",
   "execution_count": null,
   "metadata": {},
   "outputs": [],
   "source": [
    "def forward(x, smp):\n",
    "    n = len(smp)\n",
    "    y = np.zeros((n,x.size))\n",
    "    for i, s in enumerate(smp):\n",
    "        lmb = s._vars[0].get_value()\n",
    "        v0 = s._vars[1].get_value()\n",
    "        off = s._vars[2].get_value()\n",
    "        y[i] = off + (v0-off)*np.exp(-lmb*x)\n",
    "    md = np.median(y, axis=0)\n",
    "    miny = np.percentile(y, 16., axis=0)\n",
    "    maxy = np.percentile(y, 84., axis=0)\n",
    "    return (md, miny, maxy)"
   ]
  },
  {
   "cell_type": "code",
   "execution_count": null,
   "metadata": {},
   "outputs": [],
   "source": [
    "plt.figure(figsize=(12,4))\n",
    "plt.subplot(1,2,1)\n",
    "plt.fill_between(x, mn+std, mn-std, color='red', alpha=0.5)\n",
    "plt.plot(x, mn, 'r')\n",
    "md, miny, maxy = forward(x, rs1)\n",
    "plt.plot(x, md, color='#1f77b4')\n",
    "plt.plot(x, maxy, color='#1f77b4', linestyle='--' )\n",
    "plt.plot(x, miny, color='#1f77b4', linestyle='--' )\n",
    "\n",
    "plt.subplot(1,2,2)\n",
    "lmbds = []\n",
    "for i, s in enumerate(rs1):\n",
    "    lmbds.append(s._vars[0].get_value())\n",
    "_ = plt.hist(lmbds, bins=30)"
   ]
  },
  {
   "cell_type": "markdown",
   "metadata": {},
   "source": [
    "## Outflow from Mg++ concentration"
   ]
  },
  {
   "cell_type": "markdown",
   "metadata": {},
   "source": [
    "### Get the raw data from FITS"
   ]
  },
  {
   "cell_type": "code",
   "execution_count": null,
   "metadata": {},
   "outputs": [],
   "source": [
    "from clemb.forward_model import fullness\n",
    "\n",
    "def get_data(siteID, tstart=None, tend=None):\n",
    "    # Get Mg++ concentration\n",
    "    url = \"https://fits.geonet.org.nz/observation?siteID={}&typeID=Mg-w\"\n",
    "    names = ['obs', 'obs_err']\n",
    "    mg_df = pd.read_csv(url.format(siteID),\n",
    "                        index_col=0, names=names, skiprows=1,\n",
    "                        parse_dates=True)\n",
    "    if tstart is not None:\n",
    "        mg_df = mg_df.loc[mg_df.index >= tstart]\n",
    "    if tend is not None:\n",
    "        mg_df = mg_df.loc[mg_df.index <= tend]\n",
    "        \n",
    "    # Get lake level\n",
    "    url = \"https://fits.geonet.org.nz/observation?siteID={}&typeID=z\"\n",
    "    names = ['h', 'h_err']\n",
    "    ldf = pd.read_csv(url.format('RU001'),\n",
    "                      index_col=0, names=names, skiprows=1,\n",
    "                      parse_dates=True)\n",
    "    ldf1 = pd.read_csv(url.format('RU001A'),\n",
    "                       index_col=0, names=names, skiprows=1,\n",
    "                       parse_dates=True)\n",
    "    ldf = ldf.combine_first(ldf1)\n",
    "    ldf.loc[ldf.index < '1997-01-01', 'h'] = 2530. + \\\n",
    "        ldf.loc[ldf.index < '1997-01-01', 'h']\n",
    "    ldf.loc[(ldf.index > '1997-01-01') & (ldf.index < '2012-12-31'),\n",
    "            'h'] = 2529.5 + \\\n",
    "        (ldf.loc[(ldf.index > '1997-01-01') &\n",
    "                 (ldf.index < '2012-12-31'), 'h'] - 1.3)\n",
    "    ldf.loc[ldf.index > '2016-01-01', 'h'] = 2529.35 + \\\n",
    "        (ldf.loc[ldf.index > '2016-01-01', 'h'] - 2.0)\n",
    "    if tstart is not None:\n",
    "        ldf = ldf.loc[ldf.index >= tstart]\n",
    "    if tend is not None:\n",
    "        ldf = ldf.loc[ldf.index <= tend]\n",
    "        \n",
    "    ldf = ldf.reindex(index=mg_df.index, method='nearest',\n",
    "                      tolerance=np.timedelta64(1,'D')).interpolate()\n",
    "\n",
    "    a, vol = fullness(ldf['h'].values)\n",
    "    mg_df['h'] = ldf['h']\n",
    "    mg_df['V'] = vol*1e6\n",
    "    mg_df['X'] = mg_df['obs']*mg_df['V']\n",
    "    \n",
    "    def common_date(date):\n",
    "        \"\"\"\n",
    "        If there are several measurements in \n",
    "        one day, take the mean.\n",
    "        \"\"\"\n",
    "        ndt = pd.Timestamp(year=date.year,\n",
    "                           month=date.month,\n",
    "                           day=date.day)\n",
    "        return ndt\n",
    "\n",
    "    mg_df = mg_df.groupby(common_date, axis=0).mean()\n",
    "    return mg_df\n",
    "\n",
    "tstart = '2009-09-25'\n",
    "df1 = get_data('RU003', tstart)\n",
    "\n",
    "fig, axs = plt.subplots(nrows=2, ncols=2, figsize=(14,8))\n",
    "y = df1['obs'].values\n",
    "v = df1['V'].values\n",
    "x = np.r_[0, np.cumsum(np.diff(df1.index).astype(int)/(86400*1e9))]\n",
    "axs[0,0].plot(x, y, 'k+')\n",
    "axs[0,0].set_ylabel('Concentration [mg/l]')\n",
    "df1['obs'].plot(ax=axs[0, 1])\n",
    "ax_01_1 = axs[0, 1].twinx()\n",
    "ax_01_1.plot(df1['h'], color='g')\n",
    "axs[1,0].plot(df1['V'])\n",
    "axs[1,1].plot(df1['X'])\n",
    "ax_11_1 = axs[1,1].twinx()\n",
    "ax_11_1.plot(df1['obs'], 'r--')\n"
   ]
  },
  {
   "cell_type": "code",
   "execution_count": null,
   "metadata": {},
   "outputs": [],
   "source": [
    "df1.head()"
   ]
  },
  {
   "cell_type": "code",
   "execution_count": null,
   "metadata": {},
   "outputs": [],
   "source": [
    "tstart = '1982-09-01'\n",
    "tend = '1988-12-31'\n",
    "df2 = get_data('RU001', tstart, tend)\n",
    "\n",
    "fig, axs = plt.subplots(nrows=2, ncols=2, figsize=(14,8))\n",
    "y1 = df2['obs'].values\n",
    "v1 = df2['V'].values\n",
    "x1 = np.r_[0, np.cumsum(np.diff(df2.index).astype(int)/(86400*1e9))]\n",
    "axs[0,0].plot(x1, y1, 'k+')\n",
    "axs[0,0].set_ylabel('Concentration [mg/l]')\n",
    "df2['obs'].plot(ax=axs[0, 1])\n",
    "ax_01_1 = axs[0, 1].twinx()\n",
    "ax_01_1.plot(df2['h'], color='g')\n",
    "axs[1,0].plot(df2['V'])\n",
    "axs[1,1].plot(df2['X'])\n",
    "ax_11_1 = axs[1,1].twinx()\n",
    "ax_11_1.plot(df2['obs'], 'r--')\n",
    "\n"
   ]
  },
  {
   "cell_type": "code",
   "execution_count": null,
   "metadata": {},
   "outputs": [],
   "source": [
    "plt.plot(x, df1['X'].values, 'k+')\n",
    "plt.plot(x1, df2['X'].values, 'k')"
   ]
  },
  {
   "cell_type": "code",
   "execution_count": null,
   "metadata": {},
   "outputs": [],
   "source": [
    "from theano import shared\n",
    "\n",
    "def fit_model(x, y, v):\n",
    "    mg_model = pm.Model()\n",
    "    with mg_model:\n",
    "        lambda_ = pm.Uniform('lambda',1e6, 3e7)\n",
    "        v0 = pm.Uniform('v0', 900, 1300)\n",
    "        os = pm.Normal('offset', mu=300, sd=50)\n",
    "        g = os + (v0-os)*np.exp(-lambda_*x/v)\n",
    "        sigma = pm.Normal('sigma', mu=50, sd=10)\n",
    "        mg_obs = pm.Normal('mg_obs', mu=g, sd=np.ones(x.size)*sigma, observed=y)\n",
    "        trace = pm.sample(draws=2000, tune=1000, chains=4)\n",
    "    return (trace, mg_model)\n",
    "trace1, model1 = fit_model(x, y, v)\n",
    "trace2, model2 = fit_model(x1, y1, v1)"
   ]
  },
  {
   "cell_type": "code",
   "execution_count": null,
   "metadata": {},
   "outputs": [],
   "source": [
    "_ = pm.traceplot(trace1)"
   ]
  },
  {
   "cell_type": "code",
   "execution_count": null,
   "metadata": {},
   "outputs": [],
   "source": [
    "_ = pm.traceplot(trace2)"
   ]
  },
  {
   "cell_type": "code",
   "execution_count": null,
   "metadata": {},
   "outputs": [],
   "source": [
    "fig = plt.figure()\n",
    "ax = fig.add_subplot(111)\n",
    "def plot_model(ax, trace, model, x, y, nresample=200, color='red'):\n",
    "    ppc = pm.sample_ppc(trace, samples=nresample, model=model)\n",
    "    mn_mg = ppc['mg_obs'].mean(axis=0)\n",
    "    std_mg = ppc['mg_obs'].std(axis=0)\n",
    "    ax.fill_between(x, mn_mg+std_mg, mn_mg-std_mg, color=color, alpha=0.5)\n",
    "    ax.plot(x, mn_mg, 'r--')\n",
    "    ax.plot(x, y, 'k')\n",
    "plot_model(ax, trace1, model1, x, y)\n",
    "plot_model(ax, trace2, model2, x1, y1, color='blue')"
   ]
  },
  {
   "cell_type": "code",
   "execution_count": null,
   "metadata": {},
   "outputs": [],
   "source": [
    "a, vol = fullness(np.array([2529.35]))\n",
    "mean = trace.get_values('lambda').mean()\n",
    "print(vol, vol*(mean)*1e6/86400.)"
   ]
  },
  {
   "cell_type": "code",
   "execution_count": null,
   "metadata": {},
   "outputs": [],
   "source": [
    "from scipy.interpolate import interp1d\n",
    "f = interp1d(x, v, kind='linear', bounds_error=False, \n",
    "             fill_value=v[-1])\n",
    "plt.plot(x,v)\n",
    "x_new = np.arange(0,3600)\n",
    "plt.plot(x_new, f(x_new))"
   ]
  },
  {
   "cell_type": "code",
   "execution_count": null,
   "metadata": {},
   "outputs": [],
   "source": [
    "def predict(x, v, trace, samples):\n",
    "    len_trace = len(trace)\n",
    "    y_predict = np.zeros((samples, x.size))\n",
    "    try:\n",
    "        nchain = trace.nchains\n",
    "    except AttributeError:\n",
    "        nchain = 1\n",
    "    indices = np.random.randint(0, nchain * len_trace, samples)\n",
    "    cnt = 0\n",
    "    for idx in indices:\n",
    "        if nchain > 1:\n",
    "            chain_idx, point_idx = np.divmod(idx, len_trace)\n",
    "            param = trace._straces[chain_idx].point(point_idx)\n",
    "        else:\n",
    "            param = trace[idx]\n",
    "        lambda_ = param['lambda']\n",
    "        os = param['offset']\n",
    "        v0 = param['v0']\n",
    "        sigma = param['sigma']\n",
    "        y_predict[cnt] = np.random.normal(loc=os + (v0-os)*np.exp(-lambda_*x/v),\n",
    "                                          scale=sigma)\n",
    "        cnt += 1\n",
    "    return y_predict\n",
    "xp = np.arange(3600)\n",
    "vp = f(xp)\n",
    "yp = predict(xp, vp, trace1, 10)"
   ]
  },
  {
   "cell_type": "code",
   "execution_count": null,
   "metadata": {},
   "outputs": [],
   "source": [
    "yp_mean = yp.mean(axis=0)\n",
    "yp_std = yp.std(axis=0)\n",
    "fig = plt.figure()\n",
    "ax = fig.add_subplot(111)\n",
    "ax.fill_between(xp, yp_mean+yp_std, yp_mean-yp_std, color='blue', alpha=0.5)\n",
    "ax.plot(xp, yp_mean, 'b--')\n",
    "ax.plot(x, y, 'k')\n",
    "yp_mean.shape"
   ]
  },
  {
   "cell_type": "markdown",
   "metadata": {},
   "source": [
    "### Modeling Mg++ using Gaussian Processes"
   ]
  },
  {
   "cell_type": "code",
   "execution_count": null,
   "metadata": {},
   "outputs": [],
   "source": [
    "from sklearn.gaussian_process import GaussianProcessRegressor\n",
    "from sklearn.gaussian_process.kernels import RBF, WhiteKernel, DotProduct, ExpSineSquared"
   ]
  },
  {
   "cell_type": "code",
   "execution_count": null,
   "metadata": {},
   "outputs": [],
   "source": [
    "k1 = 1e-3**2*DotProduct(sigma_0=y[0])\n",
    "k2 = 10.**2*RBF(length_scale=10.0)\n",
    "k3 =  2.* WhiteKernel(noise_level=1, noise_level_bounds=(1e1, 1e+3))\n",
    "gp = GaussianProcessRegressor(kernel=k1*k1 + k2 + k3, alpha=0, normalize_y=True)\n",
    "X_new = np.linspace(0,3500,350)\n",
    "y_mean = gp.sample_y(X_new[:,np.newaxis], n_samples=10)"
   ]
  },
  {
   "cell_type": "code",
   "execution_count": null,
   "metadata": {},
   "outputs": [],
   "source": [
    "_ = plt.plot(y_mean)"
   ]
  },
  {
   "cell_type": "code",
   "execution_count": null,
   "metadata": {},
   "outputs": [],
   "source": [
    "idx = np.where(x<4000)\n",
    "X = x[idx[0], np.newaxis]\n",
    "Y = y[idx[0], np.newaxis]\n",
    "gp.fit(X,y[idx[0]])"
   ]
  },
  {
   "cell_type": "code",
   "execution_count": null,
   "metadata": {},
   "outputs": [],
   "source": [
    "y_mean, y_cov = gp.predict(X_new[:,np.newaxis], return_cov=True)\n",
    "plt.figure(figsize=(12,6))\n",
    "plt.plot(X_new, y_mean, 'k', lw=1, zorder=9)\n",
    "plt.fill_between(X_new, y_mean - 3*np.sqrt(np.diag(y_cov)),\n",
    "                 y_mean + 3*np.sqrt(np.diag(y_cov)),\n",
    "                 alpha=0.5, color='k')\n",
    "plt.plot(x,y,'r+')"
   ]
  },
  {
   "cell_type": "markdown",
   "metadata": {},
   "source": [
    "### Modeling Mg++ using Kalman Filter"
   ]
  },
  {
   "cell_type": "code",
   "execution_count": null,
   "metadata": {},
   "outputs": [],
   "source": [
    "from filterpy.kalman import UnscentedKalmanFilter as UKF\n",
    "from filterpy.kalman import MerweScaledSigmaPoints, JulierSigmaPoints\n",
    "from filterpy.common import Q_discrete_white_noise"
   ]
  },
  {
   "cell_type": "code",
   "execution_count": null,
   "metadata": {},
   "outputs": [],
   "source": [
    "def f_x(x, dt):\n",
    "    _k = x[1]/8.8e2\n",
    "    _dt = dt\n",
    "    _y = x[0]\n",
    "    if isinstance(dt, np.ndarray):\n",
    "        _dt = dt[0]\n",
    "    # 4th order Runge-Kutta\n",
    "    k0 = -_k * _y * _dt\n",
    "    k1 = -_k * (_y + 0.5 * k0) * _dt\n",
    "    k2 = -_k * (_y + 0.5 * k1) * _dt\n",
    "    k3 = -_k * (_y + k2) * _dt\n",
    "    _y_next = _y + 1./6.*(k0 + 2 * k1 + 2 * k2 + k3)\n",
    "    return np.array([_y_next, x[1]])\n",
    "\n",
    "def h_x(x):\n",
    "    return [x[0]]\n"
   ]
  },
  {
   "cell_type": "code",
   "execution_count": null,
   "metadata": {},
   "outputs": [],
   "source": [
    "def interpolate_mg(x, y, ndays, dt=1):\n",
    "    \"\"\"\n",
    "    Inter- and extrapolate Mg++ measurements using a\n",
    "    non-linear Kalman filter.\n",
    "    \"\"\"\n",
    "    dts = np.arange(x[0], x[-1]+ndays+1, dt)[:, np.newaxis]\n",
    "    ny = np.full(dts.size, None)\n",
    "    ny[x.astype(int)] = y[:]\n",
    "    \n",
    "    points = MerweScaledSigmaPoints(n=2, alpha=.01, beta=2., kappa=1.)\n",
    "    kf = UKF(dim_x=2, dim_z=1, dt=dt, fx=f_x, hx=h_x, points=points)\n",
    "    kf.x = np.array([y[0], .6])\n",
    "    kf.Q = Q_discrete_white_noise(2, dt=dt, var=1e-5)\n",
    "    kf.P = np.diag([100.**2, 3.**2])\n",
    "    kf.R = 50.**2\n",
    "    #dts = np.diff(x)[:, np.newaxis]\n",
    "    npoints = dts.size\n",
    "    means = np.zeros((npoints-1, 2))\n",
    "    covariances = np.zeros((npoints-1, 2, 2))\n",
    "    for i, z_n in enumerate(ny[1:]):\n",
    "        kf.predict()\n",
    "        kf.update(z_n)\n",
    "        means[i,:] = kf.x\n",
    "        covariances[i, :, :] = kf.P\n",
    "    #state, covs = kf.batch_filter(zs=ny[1:])\n",
    "    Ms, P, K = kf.rts_smoother(means, covariances)\n",
    "    y_new = np.r_[ny[0], Ms[:,0]]\n",
    "    k = np.r_[.6, Ms[:, 1]]\n",
    "    y_std = np.r_[100, np.sqrt(P[:, 0, 0])]\n",
    "    k_std = np.r_[3, np.sqrt(P[:, 1, 1])]\n",
    "    return (dts[:,0], y_new, y_std, k, k_std)"
   ]
  },
  {
   "cell_type": "code",
   "execution_count": null,
   "metadata": {},
   "outputs": [],
   "source": [
    "t, y_ext, y_std_ext, k, k_std = interpolate_mg(x, y, 300)"
   ]
  },
  {
   "cell_type": "code",
   "execution_count": null,
   "metadata": {},
   "outputs": [],
   "source": [
    "plt.figure(figsize=(14,6))\n",
    "plt.subplot(121)\n",
    "   \n",
    "plt.plot(t, y_ext, 'k--')\n",
    "plt.fill_between(t, y_ext-3*y_std_ext,\n",
    "                 y_ext+3*y_std_ext, alpha=0.5)\n",
    "plt.plot(x, y, 'k+')\n",
    "\n",
    "plt.subplot(122)\n",
    "plt.plot(t, k)\n",
    "plt.fill_between(t, k-3*k_std,\n",
    "                 k+3*k_std, alpha=0.5)\n",
    "plt.ylim(-1,1)"
   ]
  },
  {
   "cell_type": "code",
   "execution_count": null,
   "metadata": {},
   "outputs": [],
   "source": [
    "plt.plot(k*1e-3*v[0]/86400.)"
   ]
  },
  {
   "cell_type": "code",
   "execution_count": null,
   "metadata": {},
   "outputs": [],
   "source": [
    "v"
   ]
  },
  {
   "cell_type": "code",
   "execution_count": null,
   "metadata": {},
   "outputs": [],
   "source": [
    "t = np.arange(x[0], x[-1]+1, 1)\n",
    "ny = np.full(t.size, None)\n",
    "ny[x.astype(int)] = y[:]"
   ]
  },
  {
   "cell_type": "code",
   "execution_count": null,
   "metadata": {},
   "outputs": [],
   "source": [
    "ny[1:].ndim"
   ]
  },
  {
   "cell_type": "code",
   "execution_count": null,
   "metadata": {},
   "outputs": [],
   "source": [
    "y"
   ]
  },
  {
   "cell_type": "code",
   "execution_count": null,
   "metadata": {},
   "outputs": [],
   "source": [
    "np.full(5, None)"
   ]
  },
  {
   "cell_type": "code",
   "execution_count": null,
   "metadata": {},
   "outputs": [],
   "source": []
  }
 ],
 "metadata": {
  "kernelspec": {
   "display_name": "Python 3 Conda",
   "language": "python",
   "name": "python3_conda"
  },
  "language_info": {
   "codemirror_mode": {
    "name": "ipython",
    "version": 3
   },
   "file_extension": ".py",
   "mimetype": "text/x-python",
   "name": "python",
   "nbconvert_exporter": "python",
   "pygments_lexer": "ipython3",
   "version": "3.6.4"
  }
 },
 "nbformat": 4,
 "nbformat_minor": 2
}

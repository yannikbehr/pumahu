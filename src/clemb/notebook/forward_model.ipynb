{
 "cells": [
  {
   "cell_type": "code",
   "execution_count": null,
   "metadata": {},
   "outputs": [],
   "source": [
    "%matplotlib inline\n",
    "import os\n",
    "import matplotlib as mpl\n",
    "import matplotlib.pyplot as plt\n",
    "import matplotlib.dates as mdates\n",
    "import numpy as np\n",
    "from scipy.interpolate import interp1d\n",
    "from scipy.optimize import brentq\n",
    "from scipy.stats import gamma, gaussian_kde\n",
    "from scipy.integrate import cumtrapz, trapz\n",
    "from matplotlib.colors import Normalize, LogNorm\n",
    "from sklearn.neighbors.kde import KernelDensity\n",
    "import pandas as pd\n",
    "import clemb\n",
    "from clemb.forward_model import Forwardmodel\n",
    "from clemb.syn_model import SynModel\n",
    "import IPython.core.debugger\n",
    "dbg = IPython.core.debugger.Pdb()\n"
   ]
  },
  {
   "cell_type": "code",
   "execution_count": null,
   "metadata": {},
   "outputs": [],
   "source": [
    "def error(y1, y2, t1, t2):\n",
    "    f1 = interp1d(t1, y1)\n",
    "    err = y2 - f1(t2)\n",
    "    return err"
   ]
  },
  {
   "cell_type": "code",
   "execution_count": null,
   "metadata": {},
   "outputs": [],
   "source": [
    "resultsd = './results'\n",
    "if not os.path.isdir(resultsd):\n",
    "    os.makedirs(resultsd)"
   ]
  },
  {
   "cell_type": "markdown",
   "metadata": {},
   "source": [
    "## Testing the forward model\n",
    "The following uses the deterministic solution to the inverse problem as input to the forward model to\n",
    "ensure they are consistent."
   ]
  },
  {
   "cell_type": "code",
   "execution_count": null,
   "metadata": {},
   "outputs": [],
   "source": [
    "if True:\n",
    "    c = clemb.Clemb(clemb.LakeDataFITS(), clemb.WindDataCSV(), \n",
    "                    start='2018-02-01 ', end='2018-06-06',\n",
    "                    resultsd=resultsd)"
   ]
  },
  {
   "cell_type": "code",
   "execution_count": null,
   "metadata": {},
   "outputs": [],
   "source": [
    "if True:\n",
    "    rp = c.run_backward()"
   ]
  },
  {
   "cell_type": "code",
   "execution_count": null,
   "metadata": {
    "scrolled": false
   },
   "outputs": [],
   "source": [
    "pwr = rp['pwr']*0.0864\n",
    "datetime = pd.to_datetime(rp['dates'].data)\n",
    "melt = rp['fmelt']\n",
    "orig_steam = rp['steam']\n",
    "orig_mevap = rp['evfl']\n",
    "ll = rp['llvl']\n",
    "t = rp['t']\n",
    "\n",
    "ndays = (datetime[-1] - datetime[0]).days\n",
    "dt = 1.\n",
    "nsteps = int(ndays/float(dt))\n",
    "time = np.linspace(0,ndays,nsteps+1)\n",
    "T0 = t.data[0]\n",
    "\n",
    "y = np.zeros((nsteps+1, 3))\n",
    "a,vol = fullness(ll.data)\n",
    "density = 1.003 - 0.00033 * T0\n",
    "M0 = vol[0]*density\n",
    "y[0] = [T0, M0, 0]\n",
    "steams = np.zeros(nsteps+1)\n",
    "mevaps = np.zeros(nsteps+1)\n",
    "esols = np.zeros(nsteps+1)\n",
    "for i in range(nsteps):\n",
    "    solar = esol(dt, a[i], datetime[i].month)\n",
    "    esols[i] = solar\n",
    "    Mout = 0.\n",
    "    enthalpy = 6.0\n",
    "    windspeed = 4.5\n",
    "    y_new, steam, mevap = forward_model(y[i], dt, a[i], vol[i], pwr.values[i], \n",
    "                                 melt.values[i], Mout, solar, enthalpy, windspeed)\n",
    "    steams[i] = steam\n",
    "    mevaps[i] = mevap\n",
    "    y[i+1] = y_new\n",
    "    \n",
    "mpl.rcParams['figure.subplot.hspace'] = 0.5\n",
    "plt.figure(figsize=(10,8))\n",
    "ax1 = plt.subplot(4,2,1)\n",
    "ax1.plot(time, pwr.values[:]/0.0864, ls='--')\n",
    "ax1.set_title('Heat input rate')\n",
    "\n",
    "ax2 = plt.subplot(4,2,3)\n",
    "ax2.plot(time, melt.values[:], ls='--')\n",
    "ax2.set_title('Meltwater inflow')\n",
    "\n",
    "ax3 = plt.subplot(4,2,5)\n",
    "ax3.plot(time, mevaps)\n",
    "ax3.plot(time, orig_mevap, ls='--')\n",
    "ax3.set_title('Evaporation')\n",
    "\n",
    "ax4 = plt.subplot(4,2,2)\n",
    "ax4.plot(time, y[:,0])\n",
    "ax4.plot(time, t.values[:], ls='--')\n",
    "ax4.set_title('Lake temperature')\n",
    "\n",
    "ax5 = plt.subplot(4,2,4)\n",
    "ax5.plot(time, y[:,0] - t.values[:])\n",
    "ax5.set_title('Temperature difference')\n",
    "\n",
    "ax6 = plt.subplot(4,2,6)\n",
    "ax6.plot(time, steams)\n",
    "ax6.plot(time, orig_steam, ls='--')\n",
    "ax6.set_title('Steam')\n",
    "\n",
    "ax7 = plt.subplot(4,2,7)\n",
    "ax7.plot(time, y[:,1])\n",
    "_, vol = fullness(ll.values[:])\n",
    "rho = 1.003 - 0.00033 * t.values[:]\n",
    "mass = vol*rho\n",
    "ax7.plot(time, mass, ls='--')\n",
    "ax7.set_title('Lake mass')\n",
    "\n",
    "ax8 = plt.subplot(4,2,8)\n",
    "ax8.plot(time, y[:,1]- mass)\n",
    "ax8.set_title('Mass difference')\n"
   ]
  },
  {
   "cell_type": "code",
   "execution_count": null,
   "metadata": {},
   "outputs": [],
   "source": [
    "print(T0, vol[0], M0)"
   ]
  },
  {
   "cell_type": "markdown",
   "metadata": {
    "toc-hr-collapsed": false
   },
   "source": [
    "## Synthetic input\n",
    "Next we test the probabilistic solution on a synthetic input."
   ]
  },
  {
   "cell_type": "code",
   "execution_count": null,
   "metadata": {},
   "outputs": [],
   "source": [
    "# matplotlib.rcParams['axes.prop_cycle']\n",
    "cl1 = '#1f77b4'\n",
    "cl2 = '#ff7f0e'\n",
    "cl3 = '#2ca02c'"
   ]
  },
  {
   "cell_type": "code",
   "execution_count": null,
   "metadata": {},
   "outputs": [],
   "source": [
    "def plot_syn_model(df):\n",
    "    t = df.index\n",
    "    \n",
    "    mpl.rcParams['figure.subplot.hspace'] = 0.5\n",
    "    fig, axs = plt.subplots(nrows=5, ncols=2, figsize=(14, 10))\n",
    "    \n",
    "    axs[0,0].plot(t, df['qi'], ls='--')\n",
    "    axs[0,0].set_title('Heat input rate')\n",
    "\n",
    "    axs[0,1].plot(t, df['Mi'])\n",
    "    axs[0,1].set_title('Meltwater inflow')\n",
    "\n",
    "    axs[1,0].plot(t, df['M'] + df['M_err'], 'k+')\n",
    "    axs[1,0].plot(t, df['M'])\n",
    "    axs[1,0].set_title('Lake mass')\n",
    "\n",
    "    axs[1,1].plot(t, df['T'] + df['T_err'],'k+')\n",
    "    axs[1,1].plot(t, df['T'])\n",
    "    axs[1,1].set_title('Lake temperature')\n",
    "    \n",
    "    axs[2,0].plot(t, df['Mo'])\n",
    "    axs[2,0].set_title('Outflow')\n",
    "    \n",
    "    axs[2,1].plot(t, df['z'] + df['z_err'],'k+')\n",
    "    axs[2,1].plot(t, df['z'])\n",
    "    axs[2,1].set_title('Lake level')\n",
    "    \n",
    "    axs[3,0].plot(t, df['X'] + df['X_err'], 'k+')\n",
    "    axs[3,0].plot(t, df['X'])\n",
    "    axs[3,0].set_title('Mg++ total amount')\n",
    "\n",
    "    axs[3,1].plot(t, df['mevap'])\n",
    "    axs[3,1].set_title('Evaporated steam')\n",
    "\n",
    "    axs[4,0].plot(t, df['v'] + df['v_err'], 'k+')\n",
    "    axs[4,0].plot(t, df['v'])\n",
    "    axs[4,0].set_title('Lake volume')\n",
    "    \n",
    "    axs[4,1].plot(t, df['Mg'] + df['Mg_err'], 'k+')\n",
    "    axs[4,1].plot(t, df['Mg'])\n",
    "    axs[4,1].set_title('Mg++ concentration')\n",
    "    \n",
    "\n"
   ]
  },
  {
   "cell_type": "code",
   "execution_count": null,
   "metadata": {},
   "outputs": [],
   "source": []
  },
  {
   "cell_type": "code",
   "execution_count": null,
   "metadata": {},
   "outputs": [],
   "source": [
    "df = SynModel().run(1000., nsteps=21, integration_method='rk4',\n",
    "                    gradient=True)\n",
    "if False:\n",
    "    df = df[(df.index >= '2017-01-03 10:00')&(df.index < '2017-01-04 20:00')]\n",
    "if False:\n",
    "    df = df[(df.index >= '2017-01-03')&(df.index <= '2017-01-06')]\n",
    "plot_syn_model(df)"
   ]
  },
  {
   "cell_type": "code",
   "execution_count": null,
   "metadata": {},
   "outputs": [],
   "source": [
    "df"
   ]
  },
  {
   "cell_type": "code",
   "execution_count": null,
   "metadata": {},
   "outputs": [],
   "source": [
    "c._df = df\n",
    "c._dates = df.index\n",
    "c.drmg = True\n",
    "c.fullness = SynModel(area=df['a'].values).synth_fullness\n",
    "rsb = c.run_backward(new=True)"
   ]
  },
  {
   "cell_type": "code",
   "execution_count": null,
   "metadata": {},
   "outputs": [],
   "source": [
    "rs = c.run_forward(nsamples=2000, nresample=-1, m_out_max=40., m_in_max=40., q_in_max=1500., \n",
    "                   new=True, prior_sampling=False, tolZ=1e-3, prior_resample=10000, Q_scale=300.,\n",
    "                   dQdT=3e3, tolH=3e30, seed=42)"
   ]
  },
  {
   "cell_type": "code",
   "execution_count": null,
   "metadata": {},
   "outputs": [],
   "source": [
    "def density_plot(ax, rs, prm, prm_lim=(0, 1800, 100),  mode='kde'):\n",
    "    nsteps = rs.dims['dates']\n",
    "    if mode == 'kde':\n",
    "        bins = np.arange(*prm_lim)\n",
    "        m = []\n",
    "        for i in range(nsteps):\n",
    "            y = rs[prm][i].data\n",
    "            idx = np.isnan(y)\n",
    "            _kde = KernelDensity(kernel='gaussian', bandwidth=60.).fit(y[~idx].reshape(-1,1))\n",
    "            X_plot = np.linspace(0, 1600, 1000)\n",
    "            log_dens = _kde.score_samples(X_plot[:, np.newaxis])\n",
    "            bins=X_plot\n",
    "            m.append(np.exp(log_dens))\n",
    "        m = np.array(m)\n",
    "        ax.contourf(np.arange(nsteps), bins,  m.T, 30, cmap=plt.cm.get_cmap('RdBu_r'))\n",
    "    if mode == 'scatter':\n",
    "        datet = rs['dates']\n",
    "        nresample = rs[prm].shape[1]\n",
    "        for k in range(nsteps):\n",
    "            ax.scatter([datet[k].data]*nresample, rs[prm][k], s=2, c=rs['lh'][k],\n",
    "                    cmap=plt.cm.get_cmap('RdBu_r'), alpha=0.3)\n",
    "    return"
   ]
  },
  {
   "cell_type": "code",
   "execution_count": null,
   "metadata": {},
   "outputs": [],
   "source": [
    "import matplotlib.colors as colors\n",
    "\n",
    "def plot_inv_res(irs, df, irsb=None):\n",
    "    days = mdates.DayLocator()  # every day\n",
    "    months = mdates.MonthLocator()\n",
    "    monthFmt = mdates.DateFormatter('%Y-%m-%d')\n",
    "    dayFmt = mdates.DateFormatter('%d')\n",
    "\n",
    "    datet = irs['dates']\n",
    "    data = df\n",
    "    t_data = data.index\n",
    "    nsteps = datet.size\n",
    "    nresample = irs['q_in'].shape[1]\n",
    "\n",
    "    show_exp = True\n",
    "\n",
    "    mpl.rcParams['figure.subplot.hspace'] = 0.5\n",
    "    fig, axs = plt.subplots(nrows=5, ncols=2, figsize=(14, 10))\n",
    "\n",
    "    axs[0,0].plot(t_data, np.ones(t_data.size)*4.5, ls='--')\n",
    "    axs[0,0].set_title('Wind speed [m/s]')\n",
    "\n",
    "    axs[0,1].plot(t_data, data['X'], ls='--')\n",
    "\n",
    "    model_X = irs['model'].sel(obs='X')\n",
    "    axs[0,1].fill_between(t_data, data['X']-3*data['X_err'],\n",
    "                          data['X']+3*data['X_err'], alpha=0.5)\n",
    "    if show_exp:\n",
    "        axs[0,1].plot(datet, model_X.mean(axis=1), 'k-')\n",
    "        axs[0,1].plot(datet, model_X.mean(axis=1)+3*model_X.std(axis=1), 'k--')\n",
    "        axs[0,1].plot(datet, model_X.mean(axis=1)-3*model_X.std(axis=1), 'k--')\n",
    "    axs[0,1].set_title('Mg++ amount [kt]')\n",
    "\n",
    "    axs[1,0].plot(t_data, data['T'], ls='--')\n",
    "    axs[1,0].fill_between(t_data, data['T']-3*data['T_err'],\n",
    "                          data['T']+3*data['T_err'], alpha=0.5)\n",
    "\n",
    "    model_T = irs['model'].sel(obs='T')\n",
    "    if show_exp:\n",
    "        axs[1,0].plot(datet, model_T.mean(axis=1), 'k-')\n",
    "        axs[1,0].plot(datet, model_T.mean(axis=1)+3*model_T.std(axis=1), 'k--')\n",
    "        axs[1,0].plot(datet, model_T.mean(axis=1)-3*model_T.std(axis=1), 'k--')\n",
    "    axs[1,0].set_title('Lake temperature [$^{\\circ}C$]')\n",
    "\n",
    "    axs[1,1].plot(t_data, data['M'], ls='--')\n",
    "    axs[1,1].fill_between(t_data, data['M']-3*data['M_err'],\n",
    "                          data['M']+3*data['M_err'], alpha=0.5)\n",
    "    model_M = irs['model'].sel(obs='M')\n",
    "    if show_exp:\n",
    "        axs[1,1].plot(datet, model_M.mean(axis=1), 'k-')\n",
    "        axs[1,1].plot(datet, model_M.mean(axis=1)+3*model_M.std(axis=1), 'k--')\n",
    "        axs[1,1].plot(datet, model_M.mean(axis=1)-3*model_M.std(axis=1), 'k--')\n",
    "    axs[1,1].set_title('Lake mass [kt]')\n",
    "\n",
    "    density_plot(axs[2,0], irs, 'q_in', mode='scatter')\n",
    "    exp_q_in = irs['exp'].loc[:,'q_in']\n",
    "    var_q_in = irs['var'].loc[:,'q_in']\n",
    "    idx = np.argmax(irs['lh'], axis=1)\n",
    "    map_q_in = irs['q_in'][:, idx]\n",
    "    if show_exp:\n",
    "        axs[2,0].plot(datet, exp_q_in, 'k')\n",
    "        axs[2,0].plot(datet, exp_q_in - 3*np.sqrt(var_q_in), 'k--')\n",
    "        axs[2,0].plot(datet, exp_q_in + 3*np.sqrt(var_q_in), 'k--')\n",
    "    axs[2,0].plot(datet, df['qi'][:-1], 'b')\n",
    "    axs[2,0].plot(datet, map_q_in, 'g')\n",
    "    if irsb is not None:\n",
    "        axs[2,0].plot(irsb['dates'], irsb['pwr'], 'g-')\n",
    "    axs[2,0].set_title('Heat input rate [MW]')\n",
    "    axs[2,0].set_ylim(0, 1600)\n",
    "\n",
    "    density_plot(axs[2,1], irs, 'h', mode='scatter')\n",
    "    exp_h = irs['exp'].loc[:,'h']\n",
    "    axs[2,1].plot(datet, exp_h, 'k')\n",
    "    axs[2,1].set_title('Enthalpy [TJ/kt]')\n",
    "\n",
    "    density_plot(axs[3,0], irs, 'm_in', mode='scatter')\n",
    "    exp_m_in = irs['exp'].loc[:,'m_in']\n",
    "    var_m_in = irs['var'].loc[:,'m_in']\n",
    "    if show_exp:\n",
    "        axs[3,0].plot(datet, exp_m_in, 'k')\n",
    "        axs[3,0].plot(datet, exp_m_in - 3*np.sqrt(var_m_in), 'k--')\n",
    "        axs[3,0].plot(datet, exp_m_in + 3*np.sqrt(var_m_in), 'k--')\n",
    "    axs[3,0].plot(datet, df['Mc'][:-1], 'b')\n",
    "    axs[3,0].set_title('Inflow [kt/day]')\n",
    "\n",
    "    density_plot(axs[3,1], irs, 'm_out', mode='scatter')\n",
    "    exp_m_out = irs['exp'].loc[:,'m_out']\n",
    "    var_m_out = irs['var'].loc[:,'m_out']\n",
    "    if show_exp:\n",
    "        axs[3,1].plot(datet, exp_m_out, 'k')\n",
    "        axs[3,1].plot(datet, exp_m_out - 3*np.sqrt(var_m_out), 'k--')\n",
    "        axs[3,1].plot(datet, exp_m_out + 3*np.sqrt(var_m_out), 'k--')\n",
    "    axs[3,1].plot(datet, df['Mo'][:-1], 'b')\n",
    "    axs[3,1].set_title('Outflow [kt/day]')\n",
    "\n",
    "    h = 6.0\n",
    "    density_plot(axs[4,0], irs, 'steam', mode='scatter')\n",
    "    axs[4,0].plot(datet, df['mevap'][:-1]*0.0864/h, 'b')\n",
    "    axs[4,0].set_title('Steam input [kt/day]')\n",
    "\n",
    "    density_plot(axs[4,1], irs, 'mevap', mode='scatter')\n",
    "    _ = axs[4,1].set_title('Evaporation mass loss [kt/day]')\n",
    "\n",
    "    for row in range(5):\n",
    "        for col in range(2):\n",
    "            axs[row,col].xaxis.set_major_locator(months)\n",
    "            axs[row,col].xaxis.set_major_formatter(monthFmt)\n",
    "            axs[row,col].xaxis.set_minor_locator(days)\n",
    "            axs[row,col].set_xlim(datet[0].data, datet[-1].data)\n"
   ]
  },
  {
   "cell_type": "markdown",
   "metadata": {},
   "source": [
    "## Plotting the results"
   ]
  },
  {
   "cell_type": "code",
   "execution_count": null,
   "metadata": {},
   "outputs": [],
   "source": [
    "plot_inv_res(rs, c._df)"
   ]
  },
  {
   "cell_type": "code",
   "execution_count": null,
   "metadata": {},
   "outputs": [],
   "source": [
    "plt.hist(rs['model'].sel(obs='T')[1])"
   ]
  },
  {
   "cell_type": "code",
   "execution_count": null,
   "metadata": {},
   "outputs": [],
   "source": [
    "rs['q_in'].shape"
   ]
  },
  {
   "cell_type": "code",
   "execution_count": null,
   "metadata": {},
   "outputs": [],
   "source": [
    "X_plot = np.linspace(0, 1600, 1000)\n",
    "ymax = 0\n",
    "for i in range(rs['q_in'].shape[0]):\n",
    "    x = rs['q_in'][i].data\n",
    "    idx = np.isnan(x)\n",
    "    kernel = gaussian_kde(x[~idx])\n",
    "    dens = kernel(X_plot)\n",
    "    plt.plot(X_plot, dens)\n",
    "    ymax = max(plt.ylim()[1], ymax)\n",
    "    \n",
    "for i in range(rs['q_in'].shape[0]):\n",
    "    plt.vlines(df['qi'][i], 0, ymax )"
   ]
  },
  {
   "cell_type": "code",
   "execution_count": null,
   "metadata": {},
   "outputs": [],
   "source": [
    "df"
   ]
  },
  {
   "cell_type": "code",
   "execution_count": null,
   "metadata": {},
   "outputs": [],
   "source": [
    "for i in range(rs['zs'].shape[0]):\n",
    "    plt.plot(rs['zs'][i])"
   ]
  },
  {
   "cell_type": "code",
   "execution_count": null,
   "metadata": {},
   "outputs": [],
   "source": [
    "for i in range(rs['wt'].shape[0]):\n",
    "    plt.plot(np.log(rs['wt'][i]))"
   ]
  },
  {
   "cell_type": "code",
   "execution_count": null,
   "metadata": {},
   "outputs": [],
   "source": [
    "for i in range(rs['hs'].shape[0]):\n",
    "    plt.plot(rs['hs'][i])"
   ]
  },
  {
   "cell_type": "code",
   "execution_count": null,
   "metadata": {},
   "outputs": [],
   "source": [
    "plt.plot(rs['ig'])"
   ]
  },
  {
   "cell_type": "code",
   "execution_count": null,
   "metadata": {},
   "outputs": [],
   "source": [
    "plt.plot(rs['lh'].max(axis=1))"
   ]
  },
  {
   "cell_type": "code",
   "execution_count": null,
   "metadata": {},
   "outputs": [],
   "source": [
    "from clemb import forward_model, esol"
   ]
  },
  {
   "cell_type": "code",
   "execution_count": null,
   "metadata": {},
   "outputs": [],
   "source": [
    "from numpy.ma import masked_equal\n",
    "a = np.zeros(10)\n",
    "a[3] = 5\n",
    "a[~masked_equal(a, 0).mask]\n"
   ]
  },
  {
   "cell_type": "code",
   "execution_count": null,
   "metadata": {},
   "outputs": [],
   "source": [
    "for i in range(rs['priors'].shape[0]):\n",
    "    plt.plot(np.linspace(0, 1500, 10000), rs['priors'][i])\n",
    "plt.plot([0, 1500], [0,1])"
   ]
  },
  {
   "cell_type": "code",
   "execution_count": null,
   "metadata": {},
   "outputs": [],
   "source": [
    "idx = 5\n",
    "T = df['T'][idx]\n",
    "M = df['M'][idx]\n",
    "X = df['X'][idx]\n",
    "y = [T, M, X]\n",
    "a = df['a'][idx]\n",
    "v = df['v'][idx]\n",
    "Q_in = 0.\n",
    "H = 6\n",
    "ws = 4.5\n",
    "dt = (df.index[1] - df.index[0])/np.timedelta64(1, 'D')\n",
    "solar = esol(dt, a, df.index[idx].month)\n",
    "M_in = rs['exp'].loc[:, 'm_in'][idx]\n",
    "M_out = rs['exp'].loc[:, 'm_out'][idx]\n",
    "if True:\n",
    "    y_new, st, me = forward_model(y, dt, a, v, Q_in*0.0864,\n",
    "                                  M_in, M_out, solar, H, ws)\n",
    "    print(y_new, df['T'][idx+1])"
   ]
  },
  {
   "cell_type": "code",
   "execution_count": null,
   "metadata": {},
   "outputs": [],
   "source": [
    "exp_q_in = rs['exp'].loc[:,'q_in']\n",
    "pidx = 20\n",
    "fig = plt.figure(figsize=(16,6))\n",
    "ax = fig.add_subplot(121)\n",
    "density_plot(ax, rs, 'q_in', mode='kde')\n",
    "ax.plot(df['qi'].values, 'k-')\n",
    "ymin, ymax = ax.get_ylim()\n",
    "ax.vlines(pidx, ymin, ymax, linestyle='--', color='white')\n",
    "new_labels = []\n",
    "new_ticks = []\n",
    "dates = rs['dates'].data\n",
    "for _xt in plt.xticks()[0]:\n",
    "    try:\n",
    "        dt = dates[int(_xt)].astype('datetime64[us]').min()\n",
    "        new_labels.append((pd.to_datetime(str(dt))\n",
    "                            .strftime(\"%Y-%m-%d\")))\n",
    "        new_ticks.append(_xt)\n",
    "    except IndexError:\n",
    "        continue\n",
    "_, _ = plt.xticks(new_ticks, new_labels, rotation=30,\n",
    "           horizontalalignment='right')\n",
    "\n",
    "ax.set_ylabel('Energy input rate [MW]')\n",
    "#ax.set_xlim(0, nsteps-1)\n",
    "\n",
    "ax1 = fig.add_subplot(122)\n",
    "x = rs['q_in'][pidx].data\n",
    "idx = np.isnan(x)\n",
    "kde = KernelDensity(kernel='gaussian', bandwidth=60.).fit(x[~idx].reshape(-1,1))\n",
    "X_plot = np.linspace(0, 1600, 1000)[:, np.newaxis]\n",
    "log_dens = kde.score_samples(X_plot)\n",
    "y = np.exp(log_dens)\n",
    "ax1.plot(X_plot[:, 0], y)\n",
    "#plt.plot(bins[:-1], m[20]/m[20].max())\n",
    "ax1.set_xlabel('Energy input rate [MW]')\n",
    "fout = '/media/win_home/Geosciences_2018/syn_example.png'\n",
    "#plt.savefig(fout, dpi=300, bbox_inches='tight')"
   ]
  },
  {
   "cell_type": "code",
   "execution_count": null,
   "metadata": {},
   "outputs": [],
   "source": [
    "x = rs['q_in'][0].data\n",
    "idx = np.isnan(x)\n",
    "kernel = gaussian_kde(x[~idx])\n",
    "dens = np.log(kernel(X_plot[:, 0]))\n",
    "fact = trapz(dens, x=x)\n",
    "#dens /= fact\n",
    "cdf = cumtrapz(dens, X_plot[:, 0], initial=0)\n",
    "plt.plot(X_plot[:, 0], cdf)\n",
    "ax = plt.gca()\n",
    "ax1 = ax.twinx()\n",
    "ax1.plot(X_plot, dens)"
   ]
  },
  {
   "cell_type": "code",
   "execution_count": null,
   "metadata": {},
   "outputs": [],
   "source": [
    "np.random.normal(scale=10., size=10).size"
   ]
  },
  {
   "cell_type": "code",
   "execution_count": null,
   "metadata": {},
   "outputs": [],
   "source": [
    "plt.plot(rs['z'][:, 0])\n",
    "ax = plt.gca()\n",
    "ax1 = ax.twinx()\n",
    "ax1.plot(prm[:, 5])"
   ]
  },
  {
   "cell_type": "code",
   "execution_count": null,
   "metadata": {},
   "outputs": [],
   "source": [
    "x = rs['q_in'][10].data\n",
    "idx = np.isnan(x)\n",
    "kde = KernelDensity(kernel='gaussian', bandwidth=20.).fit(x[~idx].reshape(-1,1))\n",
    "X_plot = np.linspace(0, 1600, 1000)[:, np.newaxis]\n",
    "log_dens = kde.score_samples(X_plot)\n",
    "y = np.exp(log_dens)\n",
    "plt.plot(X_plot[:, 0], y)"
   ]
  },
  {
   "cell_type": "code",
   "execution_count": null,
   "metadata": {},
   "outputs": [],
   "source": [
    "from pandas.plotting import scatter_matrix\n",
    "\n",
    "sdf = pd.DataFrame({'q_in': rs['q_in'][20].data, 'm_in': rs['m_in'][20].data,\n",
    "                    'm_out': rs['m_out'][20].data})\n",
    "scatter_matrix(sdf, alpha=0.5, figsize=(6, 6), diagonal='kde')\n",
    "fout = '/media/win_home/Geosciences_2018/scatter_matrix.png'\n",
    "#plt.savefig(fout, dpi=300, bbox_inches='tight')"
   ]
  },
  {
   "cell_type": "markdown",
   "metadata": {},
   "source": [
    "### Equations from Hurst et al., 1991\n",
    "Energy balance for the lake:\n",
    "\n",
    "$$\n",
    "\\frac{d}{dt}Q = Q_i - Q_e - cTM_o + cT_sM_s\n",
    "$$\n",
    "\n",
    "$Q$ = total energy of the lake\n",
    "\n",
    "$T$ = temperature at any time $t$\n",
    "\n",
    "$c$ = specific heat of lake water\n",
    "\n",
    "$Q_i$ = heat input at the base of the lake\n",
    "\n",
    "$Q_e$ = heat loss due to evaporation, radiation, solar heating (gain)\n",
    "\n",
    "$M_o$ = total rate of outflow\n",
    "\n",
    "$M_s$ = inflow rate from melt\n",
    "\n",
    "$T_s$ = temperature of inflow\n",
    "\n",
    "Assuming $T_s = 0 ^{\\circ}C$:\n",
    "\n",
    "$$\n",
    "\\begin{aligned}\n",
    "\\frac{d}{dt}Q & = Q_i - Q_e - cTM_o \\\\\n",
    "              & = \\frac{d}{dt}[cMT] \\\\\n",
    "              & = cM\\frac{dT}{dt} + cT\\frac{dM}{dt}\n",
    "\\end{aligned}\n",
    "$$\n",
    "\n",
    "$$\n",
    "\\Rightarrow \\qquad \\frac{dT}{dt} = \\frac{1}{cM}\\left(Q_i - Q_e - cTM_o -cT\\frac{dM}{dt}\\right) \n",
    "$$\n",
    "\n",
    "$M$ = mass of the water in the lake at time t\n",
    "\n",
    "Mass balance:\n",
    "\n",
    "$$\n",
    "\\frac{dM}{dt} = M_i + M_s - M_o - M_e\n",
    "$$\n",
    "\n",
    "$M_i$ = rate at which water or steam is added through the volcanic vent\n",
    "\n",
    "$M_e$ = rate of evaporation losses\n",
    "\n",
    "Ion concentration balance:\n",
    "\n",
    "$$\n",
    "\\begin{aligned}\n",
    "\\frac{d}{dt}[MZ] & = Z_i M_i - Z M_o\\\\\n",
    "\\frac{dM}{dt} + M_o & = \\frac{1}{Z} ( Z_i M_i - M \\frac{dZ}{dt} ) \n",
    "\\end{aligned}\n",
    "$$\n",
    "\n",
    "$Z$ = ion concentration in the lake\n",
    "\n",
    "$Z_iM_i$ = rate of addition of ions through the lake bottom\n",
    "\n",
    "If $Z_iM_i = 0$:\n",
    "\n",
    "$$\n",
    "\\frac{dM}{dt} = -M_o - \\frac{M}{Z}\\frac{dZ}{dt}\n",
    "$$"
   ]
  },
  {
   "cell_type": "markdown",
   "metadata": {},
   "source": [
    "### Equations from code\n",
    "\n",
    "Lake mass:\n",
    "\n",
    "$$\n",
    "\\begin{aligned}\n",
    "\\rho & = 1.003 - 0.00033T \\\\\n",
    "V & = f(h)\\\\\n",
    "M & = V * \\rho\n",
    "\\end{aligned}\n",
    "$$\n",
    "$\\rho$ = density of lake water\n",
    "\n",
    "$V$ = lake volume\n",
    "\n",
    "$h$ = lake level\n",
    "\n",
    "Outflow:\n",
    "\n",
    "$$\n",
    "M_o = M_n - M_{n-1} + M_{n-1} \\left (0.98\\frac{M_{n-1}Z_{n-1}}{M_nZ_n} -1.0 \\right )\n",
    "$$\n",
    "\n",
    "Long wave radiation loss:\n",
    "\n",
    "$$\n",
    "\\dot{E}_{long} = 5.67e^{-8}A[0.97(T - 1 + 273.15)^4 -  0.8(0.9 + 273.15)^4]\n",
    "$$\n",
    "\n",
    "$A$ = lake surface area\n",
    "\n",
    "Free and forced convection:\n",
    "\n",
    "$$\n",
    "\\begin{aligned}\n",
    "\\dot{E}_{evap} & = \\\\\n",
    "&  A \\sqrt{\\left [ 2.2 (T - 1 - 0.9)^{\\frac{1}{3}} (6.112e^{\\frac{17.62(T-1)}{243.12(T-1)}} - 6.5) \\right ] ^2+ \\left [ \\left ( 4.07e^{-3} \\frac{w^{0.8}}{500^{0.2}} - \\frac{1.107e^{-2}}{500} \\right ) \\left ( \\frac{1}{800} ( 6.112e^{\\frac{17.62(T-1)}{243.12(T-1)}} - 6.5) \\right ) 2400000 \\right ]^2}\n",
    "\\end{aligned}\n",
    "$$\n",
    "\n",
    "$w$ = wind speed\n",
    "\n",
    "Solar heating:\n",
    "\n",
    "$$\n",
    "\\dot{E}_{solar} = \\Delta t A 1.5e^{-5} \\left [ 1 + 0.5 cos \\left (\\frac{((m-1)3.14)}{6.0} \\right ) \\right ]\n",
    "$$\n",
    "\n",
    "$m$ = month of the year\n",
    "\n",
    "Heat loss due to evaporation radiation and solar heating \n",
    "\n",
    "$$\n",
    "Q_e = \\dot{E}_{long} + \\dot{E}_{evap} \\left ( 1+0.948 \\frac{1005}{2.4e^6} \\frac{T - 1 - 0.9}{6.335e^{-3} + 6.718e^{-4}(T-1) -2.0887e^{-5}(T-1)^2 + 7.3095e^{-7}(T-1)^3 - 2.2e^{-3}} \\right ) - \\dot{E}_{solar}\n",
    "$$\n",
    "\n",
    "$$\n",
    "M_e = \\dot{E}_{evap}2.4e^{-12}\n",
    "$$"
   ]
  },
  {
   "cell_type": "code",
   "execution_count": null,
   "metadata": {},
   "outputs": [],
   "source": []
  }
 ],
 "metadata": {
  "kernelspec": {
   "display_name": "Python 3 Conda",
   "language": "python",
   "name": "python3_conda"
  },
  "language_info": {
   "codemirror_mode": {
    "name": "ipython",
    "version": 3
   },
   "file_extension": ".py",
   "mimetype": "text/x-python",
   "name": "python",
   "nbconvert_exporter": "python",
   "pygments_lexer": "ipython3",
   "version": "3.6.8"
  },
  "toc-autonumbering": false,
  "toc-showcode": false,
  "toc-showmarkdowntxt": true
 },
 "nbformat": 4,
 "nbformat_minor": 2
}

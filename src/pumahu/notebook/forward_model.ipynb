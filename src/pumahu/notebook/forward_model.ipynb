{
 "cells": [
  {
   "cell_type": "code",
   "execution_count": null,
   "metadata": {},
   "outputs": [],
   "source": [
    "%matplotlib inline\n",
    "from collections import OrderedDict\n",
    "\n",
    "import numpy as np\n",
    "import xarray as xr\n",
    "\n",
    "from pumahu.syn_model import (SynModel,\n",
    "                              setup_test, setup_realistic,\n",
    "                              resample, make_sparse)\n",
    "\n",
    "from pumahu.visualise import trellis_plot\n",
    "from pumahu.fd import fd\n",
    "from pumahu.uks import UnscentedKalmanSmoother\n",
    "from pumahu import get_data"
   ]
  },
  {
   "cell_type": "markdown",
   "metadata": {},
   "source": [
    "## Simple synthetic model"
   ]
  },
  {
   "cell_type": "code",
   "execution_count": null,
   "metadata": {},
   "outputs": [],
   "source": [
    "xds1 = SynModel(integration_method='euler').run(setup_test(), gradient=True, ignore_cache=True)\n",
    "xds2 = SynModel(integration_method='rk4').run(setup_test(), gradient=True, ignore_cache=True)\n",
    "trellis_plot(xds1, xds2)"
   ]
  },
  {
   "cell_type": "markdown",
   "metadata": {},
   "source": [
    "### Invert the model"
   ]
  },
  {
   "cell_type": "code",
   "execution_count": null,
   "metadata": {},
   "outputs": [],
   "source": [
    "xds1_fd = fd(xds1.exp, use_drmg=True, level2volume=SynModel().synth_fullness)"
   ]
  },
  {
   "cell_type": "code",
   "execution_count": null,
   "metadata": {},
   "outputs": [],
   "source": [
    "trellis_plot(xds1_fd, xds1)"
   ]
  },
  {
   "cell_type": "code",
   "execution_count": null,
   "metadata": {},
   "outputs": [],
   "source": [
    "Q = OrderedDict(T=1e-3, M=1e-3, X=1e-3, q_in=1e1,\n",
    "                m_in=1e1, m_out=1e1, h=1e-3, W=1e-3,\n",
    "                dqi=1e4, dMi=1e4, dMo=1e4, dH=0, \n",
    "                dW=0)\n",
    "Q = np.eye(len(Q))*list(Q.values())\n",
    "uks = UnscentedKalmanSmoother(data=xds2.exp, Q=Q)\n",
    "xds1_uks = uks(test=True)"
   ]
  },
  {
   "cell_type": "code",
   "execution_count": null,
   "metadata": {},
   "outputs": [],
   "source": [
    "trellis_plot(xds1_uks)#, xds1_inv)"
   ]
  },
  {
   "cell_type": "markdown",
   "metadata": {},
   "source": [
    "## A more complex synthetic model"
   ]
  },
  {
   "cell_type": "code",
   "execution_count": null,
   "metadata": {},
   "outputs": [],
   "source": [
    "xds3 = SynModel(integration_method='rk4').run(setup_realistic(sinterval=24*60), ignore_cache=True)\n",
    "trellis_plot(xds3)"
   ]
  },
  {
   "cell_type": "code",
   "execution_count": null,
   "metadata": {},
   "outputs": [],
   "source": [
    "uks = UnscentedKalmanSmoother(data=xds3.exp)\n",
    "xds3_uks = uks(test=True, smooth=True)"
   ]
  },
  {
   "cell_type": "code",
   "execution_count": null,
   "metadata": {},
   "outputs": [],
   "source": [
    "trellis_plot(xds3_uks, xds3, filled_error=True)"
   ]
  },
  {
   "cell_type": "code",
   "execution_count": null,
   "metadata": {},
   "outputs": [],
   "source": [
    "xds3_fd = fd(xds3.exp, use_drmg=True, level2volume=SynModel().synth_fullness)"
   ]
  },
  {
   "cell_type": "code",
   "execution_count": null,
   "metadata": {},
   "outputs": [],
   "source": [
    "trellis_plot(xds3_fd, xds3, filled_error=True)"
   ]
  },
  {
   "cell_type": "markdown",
   "metadata": {},
   "source": [
    "### Now we add some noise"
   ]
  },
  {
   "cell_type": "code",
   "execution_count": null,
   "metadata": {},
   "outputs": [],
   "source": [
    "xds4 = SynModel().run(setup_realistic(sinterval=120), addnoise=True, ignore_cache=True)"
   ]
  },
  {
   "cell_type": "code",
   "execution_count": null,
   "metadata": {},
   "outputs": [],
   "source": [
    "trellis_plot(xds4)"
   ]
  },
  {
   "cell_type": "markdown",
   "metadata": {},
   "source": [
    "### Resample the data as preparation for the inversion"
   ]
  },
  {
   "cell_type": "code",
   "execution_count": null,
   "metadata": {},
   "outputs": [],
   "source": [
    "na = resample(xds4)\n",
    "na = make_sparse(na, ['m_out', 'm_in', 'X'])\n",
    "trellis_plot(xds4, xr.Dataset({'exp': na}))"
   ]
  },
  {
   "cell_type": "markdown",
   "metadata": {},
   "source": [
    "### Invert the resampled data"
   ]
  },
  {
   "cell_type": "code",
   "execution_count": null,
   "metadata": {},
   "outputs": [],
   "source": [
    "Q = OrderedDict(T=1e-2, M=1e1, X=1e-3, q_in=5e2,\n",
    "                m_in=1e1, m_out=1e1, h=1e-3, W=1e-3,\n",
    "                dqi=5e3, dMi=1e0, dMo=5e1, dH=0.1, \n",
    "                dW=0)\n",
    "Q = OrderedDict(T=1e-1, M=1e1, X=1e-3, q_in=1e2,\n",
    "                m_in=1e1, m_out=1e1, h=1e-3, W=1e-3,\n",
    "                dqi=0, dMi=0, dMo=0, dH=0, \n",
    "                dW=0)\n",
    "Q = np.eye(len(Q))*list(Q.values())\n",
    "\n",
    "uks4 = UnscentedKalmanSmoother(data=na, Q=Q)\n",
    "xds4_uks = uks4(test=True, smooth=True, alpha=0.35)"
   ]
  },
  {
   "cell_type": "code",
   "execution_count": null,
   "metadata": {},
   "outputs": [],
   "source": [
    "trellis_plot(xds4_uks, data2=xr.Dataset({'exp': na}), data2_params=['q_in', 'm_out'], filled_error=True)"
   ]
  },
  {
   "cell_type": "code",
   "execution_count": null,
   "metadata": {},
   "outputs": [],
   "source": [
    "xds4_fd = fd(na, use_drmg=True, level2volume=SynModel().synth_fullness)"
   ]
  },
  {
   "cell_type": "code",
   "execution_count": null,
   "metadata": {},
   "outputs": [],
   "source": [
    "trellis_plot(xds4_fd, data2=xr.Dataset({'exp': na}), data2_params=['q_in', 'm_out'], filled_error=True)"
   ]
  }
 ],
 "metadata": {
  "kernelspec": {
   "display_name": "pumahu",
   "language": "python",
   "name": "pumahu"
  },
  "language_info": {
   "codemirror_mode": {
    "name": "ipython",
    "version": 3
   },
   "file_extension": ".py",
   "mimetype": "text/x-python",
   "name": "python",
   "nbconvert_exporter": "python",
   "pygments_lexer": "ipython3",
   "version": "3.7.10"
  },
  "toc-autonumbering": false,
  "toc-showcode": false,
  "toc-showmarkdowntxt": true
 },
 "nbformat": 4,
 "nbformat_minor": 4
}

{
 "cells": [
  {
   "cell_type": "markdown",
   "metadata": {},
   "source": [
    "## Crater Lake Energy and Mass Balance (clemb)¶\n",
    "\n",
    "(urban dictionary: Slang for a great big baddy)\n",
    "\n",
    "### Motivation\n",
    "* Develop a monitoring tool that estimates heat and steam input into crater lake routinely\n",
    "* Learn from Tony about energy and mass balance calculation and provide a new home for his code\n",
    "* Add interactivity to experiment with parameters\n",
    "* Add noise model\n",
    "\n"
   ]
  },
  {
   "cell_type": "code",
   "execution_count": null,
   "metadata": {
    "hideCode": false,
    "hideOutput": false,
    "hidePrompt": false
   },
   "outputs": [],
   "source": [
    "import ipympl\n",
    "import matplotlib.pyplot as plt\n",
    "import os\n",
    "import datetime\n",
    "from bokeh.plotting import output_notebook\n",
    "from bokeh.io import push_notebook\n",
    "from bokeh.plotting import figure, show\n",
    "from bokeh.layouts import column, gridplot\n",
    "from bokeh.models import DataRange1d, Range1d, LinearAxis,  ColumnDataSource, BoxZoomTool, ResetTool, LogAxis\n",
    "import numpy as np\n",
    "from scipy.stats import scoreatpercentile\n",
    "import clemb\n",
    "from clemb import LineInteractor\n",
    "from ipyparallel import Client, Reference\n",
    "import pandas as pd\n",
    "import time\n",
    "from IPython.display import display\n",
    "import ipywidgets as widgets\n",
    "output_notebook()"
   ]
  },
  {
   "cell_type": "code",
   "execution_count": null,
   "metadata": {
    "hideCode": false,
    "hidePrompt": false
   },
   "outputs": [],
   "source": [
    "from IPython.core.display import display, HTML\n",
    "display(HTML(\"<style>.container { width:100% !important; }</style>\"))"
   ]
  },
  {
   "cell_type": "code",
   "execution_count": null,
   "metadata": {
    "hideCode": false,
    "hidePrompt": false,
    "jupyter": {
     "outputs_hidden": true
    }
   },
   "outputs": [],
   "source": [
    "# Set the timeframe to analyse\n",
    "start='1988-01-01'\n",
    "end='1989-06-30'\n",
    "start = '2016-01-01'\n",
    "end = datetime.datetime.utcnow().strftime(\"%Y-%m-%d\")"
   ]
  },
  {
   "cell_type": "code",
   "execution_count": null,
   "metadata": {
    "hideCode": false,
    "hidePrompt": false
   },
   "outputs": [],
   "source": [
    "c = Client()\n",
    "dv = c[:]\n",
    "dv.block = True\n",
    "dv.clear()"
   ]
  },
  {
   "cell_type": "code",
   "execution_count": null,
   "metadata": {
    "hideCode": false,
    "hideOutput": false,
    "hidePrompt": false
   },
   "outputs": [],
   "source": [
    "with dv.sync_imports():\n",
    "    import clemb"
   ]
  },
  {
   "cell_type": "code",
   "execution_count": null,
   "metadata": {
    "hideCode": false,
    "hideOutput": false,
    "hidePrompt": false
   },
   "outputs": [],
   "source": [
    "dv.execute(\"c = clemb.Clemb(clemb.LakeDataFITS(), clemb.WindDataCSV(),start='{}', end='{}')\".format(start,end))"
   ]
  },
  {
   "cell_type": "code",
   "execution_count": null,
   "metadata": {
    "hideCode": false,
    "hidePrompt": false,
    "jupyter": {
     "outputs_hidden": true
    }
   },
   "outputs": [],
   "source": [
    "def prep_data(dates, data, shape):\n",
    "    _d = data.reshape(shape)\n",
    "    df = {}\n",
    "    df['date'] = dates\n",
    "    left = dates\n",
    "    right = left.copy()\n",
    "    right[:-1] = left[1:]\n",
    "    right[-1] = left[-1] + np.timedelta64(1,'D')\n",
    "    df['left'] = left\n",
    "    df['right'] = right\n",
    "    idx = np.where(np.isnan(_d))\n",
    "    _d[idx] = 0\n",
    "    df['median'] = np.median(_d,axis=0)\n",
    "    df['min'], df['max'] = scoreatpercentile(_d,[16,84],axis=0)\n",
    "    df['min'][idx[1]] = np.nan\n",
    "    df['max'][idx[1]] = np.nan\n",
    "    df['median'][idx[1]] = np.nan\n",
    "    return ColumnDataSource(df)"
   ]
  },
  {
   "cell_type": "code",
   "execution_count": null,
   "metadata": {
    "hideCode": false,
    "hidePrompt": false
   },
   "outputs": [],
   "source": [
    "def plot(res):\n",
    "    tic = time.time()\n",
    "    height = 200\n",
    "    width = 800\n",
    "    alpha = 0.5\n",
    "    res1 = res.copy()\n",
    "    res1[res1.fmelt<0.] = np.nan\n",
    "    shape = (res.index.levels[0].size,res.index.levels[1].size)\n",
    "    dates = np.array(res.index.levels[1],dtype=np.datetime64)\n",
    "    t = prep_data(dates,res.loc[:,'t'].values,shape)\n",
    "    w = prep_data(dates,res.loc[:,'wind'].values,shape)\n",
    "    llvl = prep_data(dates,res.loc[:,'llvl'].values,shape)\n",
    "    fmg = prep_data(dates,res.loc[:,'mg'].values,shape)\n",
    "    fcl = prep_data(dates,res.loc[:,'cl'].values, shape)\n",
    "    fm_valid = prep_data(dates,res1.loc[:,'fmelt'].values, shape)\n",
    "    fm_invalid = prep_data(dates,res.loc[:,'fmelt'].values, shape)\n",
    "    stm_valid = prep_data(dates,res1.loc[:,'pwr'].values, shape)\n",
    "    stm_invalid = prep_data(dates,res.loc[:,'pwr'].values, shape) \n",
    "    \n",
    "    tools = 'pan,box_zoom,resize,reset,save'\n",
    "\n",
    "    # Mg++ and Cl- outflow\n",
    "    p0 = figure(width=width, height=height, x_axis_type=\"datetime\",toolbar_location='right', tools=tools,\n",
    "                y_axis_label='Concentration [mg/l]', y_axis_type=\"log\")\n",
    "    p0.extra_y_ranges = {\"bar\": Range1d(start=2400,end=2600)}\n",
    "    p0.quad(left='left',right='right',bottom='min',top='max',color='navy',legend='Mg++',source=fmg,alpha=alpha,\n",
    "           name='mgerr')\n",
    "    p0.line(x='date',y='median',color='navy',source=fmg,name='mgm')\n",
    "    p0.quad(left='left',right='right',bottom='min',top='max',color='green',legend='Cl-',source=fcl,alpha=alpha,\n",
    "           name='clerr')\n",
    "    p0.line(x='date',y='median',color='green',source=fcl,name='clm')\n",
    "    p0.quad(left='left',right='right',bottom='min',top='max',color='black',legend='Lake level',source=llvl,alpha=alpha,\n",
    "           name='llvlerr',y_range_name='bar')\n",
    "    p0.line(x='date',y='median',color='black',source=llvl,y_range_name='bar',name='llvlm')\n",
    "    p0.add_layout(LinearAxis(y_range_name=\"bar\",axis_label='Lake level [m]',\n",
    "                             major_label_text_color='black', major_tick_line_color='black'), 'right')\n",
    "\n",
    "    \n",
    "    # Temperature and wind\n",
    "    p1 = figure(width=width, height=height, x_axis_type=\"datetime\",toolbar_location='right', toolbar_sticky=False,\n",
    "               y_axis_label='Temperature [°C]', x_range=p0.x_range, tools=tools)\n",
    "    p1.extra_y_ranges = {\"foo\": Range1d(start=0, end=50)}\n",
    "    p1.yaxis.major_tick_line_color='blue'\n",
    "    p1.yaxis.major_label_text_color='blue'\n",
    "    p1.quad(left='left',right='right',bottom='min',top='max',color='navy',source=t,alpha=alpha,name='terr',\n",
    "           legend='Temp.')\n",
    "    p1.line(x='date',y='median',color='navy',source=t,name='tm')\n",
    "    p1.quad(left='left',right='right',bottom='min',top='max',color='green',y_range_name='foo',source=w, alpha=alpha,\n",
    "           name='werr',legend='Wind')\n",
    "    p1.line(x='date',y='median',color='green',source=w,y_range_name='foo',name='wm')\n",
    "    p1.add_layout(LinearAxis(y_range_name=\"foo\",axis_label='Wind speed [m/s]',\n",
    "                             major_label_text_color='green', major_tick_line_color='green'), 'right')\n",
    "    \n",
    "    # Melt flow\n",
    "    p2 = figure(width=width,height=height,x_axis_type=\"datetime\",x_range=p0.x_range, toolbar_location='right',\n",
    "               tools=tools)\n",
    "    p2.quad(left='left',right='right',bottom='min',top='max',color='grey',source=fm_invalid,alpha=alpha,\n",
    "           name='fmerr_iv')\n",
    "    p2.line(x='date',y='median',color='grey',source=fm_invalid,name='fmm_iv')\n",
    "    p2.quad(left='left',right='right',bottom='min',top='max',color='navy',source=fm_valid,alpha=alpha,\n",
    "           name='fmerr_v')\n",
    "    p2.line(x='date',y='median',color='navy',source=fm_valid,name='fmm_v')\n",
    "    p2.yaxis.axis_label = 'Melt inflow [kT/day]'\n",
    "    \n",
    "    # Steam input\n",
    "    p3 = figure(width=width, height=height, x_axis_type=\"datetime\",x_range=p0.x_range, toolbar_location='right',\n",
    "               tools=tools)\n",
    "    p3.quad(left='left',right='right',bottom='min',top='max',source=stm_invalid,color='grey',alpha=alpha,\n",
    "                   name='stmerr_iv')\n",
    "    p3.line(x='date',y='median',color='grey',source=stm_invalid,name='stmm_iv')\n",
    "    p3.quad(left='left',right='right',bottom='min',top='max',source=stm_valid,color='navy',alpha=alpha,\n",
    "            name='stmerr_v')\n",
    "    p3.line(x='date',y='median',color='navy',source=stm_valid,name='stmm_v')\n",
    "    p3.yaxis.axis_label = 'Heat input [MW]'\n",
    "\n",
    "   \n",
    "    nh = show(gridplot([[p0,p2],[p1,p3]]), notebook_handle=True)\n",
    "    toc = time.time()\n",
    "    print(\"Plotting time: %.3f s\"%(toc-tic))\n",
    "    return (nh, p0,p1,p2,p3)\n",
    "\n",
    "def update_plot(plots,res):\n",
    "    tic = time.time()\n",
    "    res1 = res.copy()\n",
    "    res1[res1.fmelt<0.] = np.nan\n",
    "    shape = (res.index.levels[0].size,res.index.levels[1].size)\n",
    "    dates = np.array(res.index.levels[1],dtype=np.datetime64)\n",
    "    t = prep_data(dates,res.loc[:,'t'].values,shape)\n",
    "    w = prep_data(dates,res.loc[:,'wind'].values,shape)\n",
    "    llvl = prep_data(dates,res.loc[:,'llvl'].values,shape)\n",
    "    fmg = prep_data(dates,res.loc[:,'mg'].values,shape)\n",
    "    fcl = prep_data(dates,res.loc[:,'cl'].values, shape)\n",
    "    fm_valid = prep_data(dates,res1.loc[:,'fmelt'].values, shape)\n",
    "    fm_invalid = prep_data(dates,res.loc[:,'fmelt'].values, shape)\n",
    "    stm_valid = prep_data(dates,res1.loc[:,'pwr'].values, shape)\n",
    "    stm_invalid = prep_data(dates,res.loc[:,'pwr'].values, shape)\n",
    "    toc = time.time()\n",
    "    #print(\"Data preparation took: {:.3f} s\".format(toc-tic))\n",
    "    tic = time.time()\n",
    "    nh,p0,p1,p2,p3 = plots\n",
    "    p0.select(name='mgerr')[0].data_source.data = fmg.data\n",
    "    p0.select(name='mgm')[0].data_source.data = fmg.data\n",
    "    p0.select(name='clerr')[0].data_source.data = fcl.data\n",
    "    p0.select(name='clm')[0].data_source.data = fcl.data\n",
    "    p0.select(name='llvlerr')[0].data_source.data = llvl.data\n",
    "    p0.select(name='llvlm')[0].data_source.data = llvl.data\n",
    "\n",
    "    p1.select(name='terr')[0].data_source.data = t.data\n",
    "    p1.select(name='tm')[0].data_source.data = t.data\n",
    "    p1.select(name='werr')[0].data_source.data = w.data\n",
    "    p1.select(name='wm')[0].data_source.data = w.data\n",
    "\n",
    "    p2.select(name='fmerr_iv')[0].data_source.data = fm_invalid.data\n",
    "    p2.select(name='fmm_iv')[0].data_source.data = fm_invalid.data\n",
    "    p2.select(name='fmerr_v')[0].data_source.data = fm_valid.data\n",
    "    p2.select(name='fmm_v')[0].data_source.data = fm_valid.data\n",
    "    \n",
    "    p3.select(name='stmerr_iv')[0].data_source.data = stm_invalid.data\n",
    "    p3.select(name='stmm_iv')[0].data_source.data = stm_invalid.data\n",
    "    p3.select(name='stmerr_v')[0].data_source.data = stm_valid.data\n",
    "    p3.select(name='stmm_v')[0].data_source.data = stm_valid.data  \n",
    "  \n",
    "    push_notebook(handle=nh)\n",
    "    toc = time.time()\n",
    "    #print(\"Updating the figure took: {:.3f} s\".format(toc-tic))"
   ]
  },
  {
   "cell_type": "code",
   "execution_count": null,
   "metadata": {
    "hideCode": false,
    "hidePrompt": false
   },
   "outputs": [],
   "source": [
    "def compute(dv,nsamples):\n",
    "    tic = time.time()\n",
    "    dv.scatter('ns', np.arange(nsamples),flatten=False)\n",
    "    r = dv.apply(lambda ns: c.run(ns),Reference('ns'))\n",
    "    rp = r[0]\n",
    "    for i in range(1,len(dv)):\n",
    "        if r[i] is None:\n",
    "            continue\n",
    "        rp = rp.append(r[i])\n",
    "    toc = time.time()\n",
    "    #print(\"Took %.3f s to calculate\"%(toc-tic))\n",
    "    return rp\n"
   ]
  },
  {
   "cell_type": "code",
   "execution_count": null,
   "metadata": {
    "hideCode": false,
    "hidePrompt": false
   },
   "outputs": [],
   "source": [
    "rp = compute(dv,1)"
   ]
  },
  {
   "cell_type": "code",
   "execution_count": null,
   "metadata": {
    "hideCode": false,
    "hideOutput": false,
    "hidePrompt": false
   },
   "outputs": [],
   "source": [
    "xs = plot(rp)\n",
    "nsamples = 1\n",
    "\n",
    "def set_samples(sender):\n",
    "    global nsamples\n",
    "    nsamples = int(sender.value)\n",
    "\n",
    "def compute_and_update(b):\n",
    "    global rp\n",
    "    dv.execute(\"c.update_data('{}','{}')\".format(start,end))\n",
    "    rp = compute(dv,nsamples)\n",
    "    update_plot(xs,rp)\n",
    "    \n",
    "def update_temperature(change):\n",
    "    val = change['new']\n",
    "    dv.execute(\"t = c.get_variable('t')\")\n",
    "    if val < 0.1:\n",
    "        dv.execute(\"t.std = None\")\n",
    "    else:\n",
    "        dv.execute(\"t.std = {:.1f}\".format(val))\n",
    "        \n",
    "def update_windspeed(change):\n",
    "    val = change['new']\n",
    "    dv.execute(\"w = c.get_variable('wind')\")\n",
    "    if val < 0.1:\n",
    "        dv.execute(\"w.std = None\")\n",
    "    else:\n",
    "        dv.execute(\"w.std = {:.1f}\".format(val))\n",
    "    \n",
    "def update_enthalpy(change):\n",
    "    val_min, val_max = change['new']\n",
    "    # Note the default value for enthalpy has been set to 6.0\n",
    "    val_min = 6.0 - val_min\n",
    "    val_max = val_max - 6.0\n",
    "    dv.execute(\"e = c.get_variable('enthalpy')\")\n",
    "    dv.execute(\"e.min = {:.1f}\".format(val_min))\n",
    "    dv.execute(\"e.max = {:.1f}\".format(val_max))\n",
    "\n",
    "def update_start(sender):\n",
    "    global start\n",
    "    try:\n",
    "        start = str(np.datetime64(sender.value))\n",
    "    except ValueError:\n",
    "        print(\"Can't convert string '{}' into date.\".format(sender.value))\n",
    "    \n",
    "    \n",
    "def update_end(sender):\n",
    "    global end\n",
    "    try:\n",
    "        end = str(np.datetime64(sender.value))\n",
    "    except ValueError:\n",
    "        print(\"Can't convert string '{}' into date.\".format(sender.value))\n",
    " \n",
    "def update_drcl(change):\n",
    "    dv.execute(\"c.drcl = {}\".format(change['new']))\n",
    "    if dv['c.drmg'][0] == True:\n",
    "        drcl.value = False\n",
    "    \n",
    "def update_drmg(change):\n",
    "    dv.execute(\"c.drmg = {}\".format(change['new']))\n",
    "    if dv['c.drcl'][0] == True:\n",
    "        drmg.value = False\n",
    "\n",
    "w = widgets.Button(description='Compute', button_style='success', tooltip='Compute models and update the plot',layout=widgets.Layout(width='10%'))\n",
    "expt = widgets.Button(description='Compute', button_style='success', tooltip='Compute models and update the plot')\n",
    "t = widgets.Text(value='1',description='samples', layout=widgets.Layout(width='10%'))\n",
    "ts = widgets.Text(value=start,description='start', layout=widgets.Layout(width='100%'))\n",
    "te = widgets.Text(value=end,description='end', layout=widgets.Layout(width='100%'))\n",
    "sl1 = widgets.FloatSlider(value=0.0, min=0, max=3.0, step=0.1, description='std(T)', orientation='horizontal',\n",
    "                         continuous_update=False,layout=widgets.Layout(width='20%'))\n",
    "sl2 = widgets.FloatSlider(value=0.0, min=0, max=10.0, step=0.1, description='std(WS)', orientation='horizontal',\n",
    "                         continuous_update=False,layout=widgets.Layout(width='20%'))\n",
    "sl3 = widgets.FloatRangeSlider(value=[5.0, 6.0], min=0, max=100, step=1.0, description='Enthalpy',\n",
    "                               continuous_update=False, orientation='horizontal',layout=widgets.Layout(width='20%'))\n",
    "drcl = widgets.Checkbox(value=False,description='Cl-',disabled=False)\n",
    "drcl.observe(update_drcl,names='value')\n",
    "drmg = widgets.Checkbox(value=False,description='Mg++',disabled=False)\n",
    "drmg.observe(update_drmg,names='value')\n",
    "t.on_submit(set_samples)\n",
    "ts.on_submit(update_start)\n",
    "te.on_submit(update_end)\n",
    "w.on_click(compute_and_update)\n",
    "sl1.observe(update_temperature,names='value')\n",
    "sl2.observe(update_windspeed,names='value')\n",
    "sl3.observe(update_enthalpy,names='value')\n",
    "widgets.HBox([w,t,sl1,sl2,sl3,widgets.VBox([ts,te,widgets.HBox([drcl,drmg])])])"
   ]
  },
  {
   "cell_type": "code",
   "execution_count": null,
   "metadata": {
    "hideCode": false,
    "hidePrompt": false
   },
   "outputs": [],
   "source": [
    "import seaborn\n",
    "from matplotlib.dates import date2num\n",
    "import datetime\n",
    "\n",
    "fig = plt.figure(figsize=(15,4))\n",
    "dv.execute(\"d = c.get_variable('dv')\")\n",
    "d = dv['d'][0].data.copy()\n",
    "drs = d.resample('2W').max()\n",
    "x = date2num(drs.index.to_pydatetime())\n",
    "y = drs.values\n",
    "dates = np.array(rp.index.levels[1],dtype=np.datetime64)\n",
    "shape = (rp.index.levels[0].size,rp.index.levels[1].size)\n",
    "ll = prep_data(dates,rp.loc[:,'llvl'].values,shape)\n",
    "x1 = date2num(dates.astype('M8[ms]').astype('O'))\n",
    "y1 = ll.data['median']\n",
    "ax = fig.add_subplot(211)\n",
    "l = ax.plot_date(x,y,'k')\n",
    "p = LineInteractor(ax, l[0])\n",
    "ax.set_ylim(0.99,1.01)\n",
    "ax.set_ylabel('Dilution factor')\n",
    "ax1 = fig.add_subplot(212)\n",
    "ax1.plot_date(x1,y1,'r')\n",
    "ax1.set_ylabel('Lake level [m]')\n",
    "plt.show()\n",
    "\n",
    "\n",
    "def update_dilution(b):\n",
    "    x,y = p.get_data()\n",
    "    nd = pd.Series(y,index=drs.index)\n",
    "    nd = nd.reindex(d.index,method='nearest')\n",
    "    dv['tmp']=clemb.Gauss(nd)\n",
    "    dv.execute(\"dd = c.get_variable('dv')\")\n",
    "    dv.execute('dd.data = tmp.data')\n",
    "    \n",
    "def reset_dilution(b):\n",
    "    p.reset()\n",
    "\n",
    "u = widgets.Button(description='Update', button_style='success', tooltip='Update the dilution factor')\n",
    "r = widgets.Button(description='Reset', button_style='success', tooltip='Reset dilution factor')\n",
    "u.on_click(update_dilution)\n",
    "r.on_click(reset_dilution)\n",
    "widgets.HBox([u,r])\n"
   ]
  },
  {
   "cell_type": "code",
   "execution_count": null,
   "metadata": {},
   "outputs": [],
   "source": [
    "s = pd.HDFStore('clemb_output.h5')\n",
    "s['df'] = rp\n",
    "s.close()"
   ]
  },
  {
   "cell_type": "markdown",
   "metadata": {
    "hideCode": false,
    "hidePrompt": false
   },
   "source": [
    "## Workplan\n",
    "\n",
    "### Next iteration\n",
    "* retrieve wind data from MetService\n",
    "* smooth input parameters\n",
    "* allow setting input parameters to their default values\n",
    "\n",
    "### 3rd iteration\n",
    "* stand-alone browser interface\n",
    "* run automatically in the background\n",
    "* make heat flux values available to users\n",
    "* allow taking snapshots of interactive session\n",
    "\n",
    "### 4th iteration\n",
    "* develop forward model\n",
    "\n",
    "### 5th iteration\n",
    "* make applicable to other volcanic lakes\n",
    "* test different evaporation models\n"
   ]
  }
 ],
 "metadata": {
  "celltoolbar": "Hide code",
  "hide_code_all_hidden": false,
  "kernelspec": {
   "display_name": "pumahu",
   "language": "python",
   "name": "pumahu"
  },
  "language_info": {
   "codemirror_mode": {
    "name": "ipython",
    "version": 3
   },
   "file_extension": ".py",
   "mimetype": "text/x-python",
   "name": "python",
   "nbconvert_exporter": "python",
   "pygments_lexer": "ipython3",
   "version": "3.7.9"
  },
  "widgets": {
   "state": {
    "206be17359004b28878fc83b71831ea1": {
     "views": [
      {
       "cell_index": 10
      }
     ]
    }
   },
   "version": "1.2.0"
  }
 },
 "nbformat": 4,
 "nbformat_minor": 4
}

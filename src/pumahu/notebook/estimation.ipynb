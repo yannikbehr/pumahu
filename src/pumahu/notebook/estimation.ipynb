{
 "cells": [
  {
   "cell_type": "code",
   "execution_count": null,
   "metadata": {},
   "outputs": [],
   "source": [
    "%matplotlib inline\n",
    "import matplotlib as mpl\n",
    "import matplotlib.pyplot as plt\n",
    "import matplotlib.dates as mdates\n",
    "from datetime import datetime, timedelta\n",
    "import pandas as pd\n",
    "import numpy as np\n",
    "import math\n",
    "import os\n",
    "from scipy.optimize import brentq\n",
    "from sklearn.neighbors import KernelDensity\n",
    "import xarray as xr\n",
    "\n",
    "from filterpy.kalman import UnscentedKalmanFilter as UKF\n",
    "from filterpy.kalman import KalmanFilter as KF\n",
    "from filterpy.kalman import MerweScaledSigmaPoints\n",
    "from filterpy.common import Q_continuous_white_noise\n",
    "\n",
    "from pumahu import Forwardmodel, ns_sampling, LakeData, get_data\n",
    "from pumahu.visualise import trellis_plot, mcmc_heat_input, heat_vs_rsam"
   ]
  },
  {
   "cell_type": "code",
   "execution_count": null,
   "metadata": {},
   "outputs": [],
   "source": [
    "def xr2xr(xdfin):\n",
    "    \"\"\"\n",
    "    Helper function to convert old netcdf file structure to new\n",
    "    \"\"\"\n",
    "    new_exp = np.zeros((xdfin['exp'].shape[0], xdfin['exp'].shape[1], 2))\n",
    "    new_exp[:, :, 0] = xdfin['exp'].values[:]\n",
    "    new_exp[:, :, 1] = xdfin['var'].values[:]\n",
    "\n",
    "    return xr.Dataset({'exp': (('dates', 'parameters', 'val_std'), new_exp)},\n",
    "                      {'dates': xdfin.dates.values,\n",
    "                       'parameters': xdfin.parameters.values,\n",
    "                       'val_std': ['val', 'std']})"
   ]
  },
  {
   "cell_type": "markdown",
   "metadata": {},
   "source": [
    "## Table of contents\n",
    "---------------------------\n",
    "1. [Inversion](#Inversion)\n",
    "2. [Forecasting](#Forecasting)"
   ]
  },
  {
   "cell_type": "markdown",
   "metadata": {},
   "source": [
    "## Inversion"
   ]
  },
  {
   "cell_type": "code",
   "execution_count": null,
   "metadata": {},
   "outputs": [],
   "source": [
    "startdate = '2020-12-01'\n",
    "enddate = '2021-01-11'\n",
    "res_dir = './data'\n",
    "if not os.path.isdir(res_dir):\n",
    "    os.makedirs(res_dir)\n",
    "mout_prior = get_data('./data/outflow_prior.npz')"
   ]
  },
  {
   "cell_type": "code",
   "execution_count": null,
   "metadata": {},
   "outputs": [],
   "source": [
    "ld = LakeData()\n",
    "data = ld.get_data(startdate, enddate)\n",
    "# Setup path for results file\n",
    "tstart = pd.to_datetime(data['dates'].values[0])\n",
    "tend = pd.to_datetime(data['dates'].values[-1])\n",
    "res_fn = 'mcmc_sampling_{:s}_{:s}.nc'\n",
    "res_fn = res_fn.format(tstart.strftime('%Y-%m-%d'),\n",
    "                       tend.strftime('%Y-%m-%d'))\n",
    "res_fn = os.path.join(res_dir, res_fn)\n",
    "\n",
    "ns_sampling(data, res_fn, nsamples=1001, nresample=500,\n",
    "            q_in_min=0., q_in_max=1000., m_in_min=0., m_in_max=20.,\n",
    "            m_out_min=0., m_out_max=20., new=True,\n",
    "            m_out_prior=mout_prior, tolZ=1e-3, lh_fun=None,\n",
    "            tolH=3., H=6., ws=4.5, seed=-1, intmethod='euler',\n",
    "            gradient=False)\n"
   ]
  },
  {
   "cell_type": "code",
   "execution_count": null,
   "metadata": {},
   "outputs": [],
   "source": [
    "xdf = xr.open_dataset(res_fn)"
   ]
  },
  {
   "cell_type": "code",
   "execution_count": null,
   "metadata": {},
   "outputs": [],
   "source": [
    "_ = mcmc_heat_input(xdf, filename='heat.png')"
   ]
  },
  {
   "cell_type": "code",
   "execution_count": null,
   "metadata": {},
   "outputs": [],
   "source": [
    "_ = heat_vs_rsam(xdf)"
   ]
  },
  {
   "cell_type": "code",
   "execution_count": null,
   "metadata": {},
   "outputs": [],
   "source": [
    "#benchmark_file = './data/benchmarking/forward_2019-01-01_2021-01-11.nc'\n",
    "benchmark_file = None\n",
    "xdft = None\n",
    "if benchmark_file is not None:\n",
    "    xdft = xr2xr(xr.open_dataset(benchmark_file))"
   ]
  },
  {
   "cell_type": "code",
   "execution_count": null,
   "metadata": {},
   "outputs": [],
   "source": [
    "trellis_plot(xdf, data2=xdft)"
   ]
  },
  {
   "cell_type": "code",
   "execution_count": null,
   "metadata": {},
   "outputs": [],
   "source": []
  }
 ],
 "metadata": {
  "kernelspec": {
   "display_name": "vumt",
   "language": "python",
   "name": "vumt"
  },
  "language_info": {
   "codemirror_mode": {
    "name": "ipython",
    "version": 3
   },
   "file_extension": ".py",
   "mimetype": "text/x-python",
   "name": "python",
   "nbconvert_exporter": "python",
   "pygments_lexer": "ipython3",
   "version": "3.6.12"
  }
 },
 "nbformat": 4,
 "nbformat_minor": 4
}

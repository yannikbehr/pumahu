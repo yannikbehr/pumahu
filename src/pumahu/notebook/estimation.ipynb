{
 "cells": [
  {
   "cell_type": "code",
   "execution_count": null,
   "metadata": {},
   "outputs": [],
   "source": [
    "%matplotlib inline\n",
    "from collections import OrderedDict\n",
    "import matplotlib as mpl\n",
    "import matplotlib.pyplot as plt\n",
    "import matplotlib.dates as mdates\n",
    "from datetime import datetime, timedelta\n",
    "import pandas as pd\n",
    "import numpy as np\n",
    "import math\n",
    "import os\n",
    "from scipy.optimize import brentq\n",
    "from sklearn.neighbors import KernelDensity\n",
    "import xarray as xr\n",
    "\n",
    "from filterpy.kalman import UnscentedKalmanFilter as UKF\n",
    "from filterpy.kalman import KalmanFilter as KF\n",
    "from filterpy.kalman import MerweScaledSigmaPoints\n",
    "from filterpy.common import Q_continuous_white_noise\n",
    "\n",
    "from pumahu import Forwardmodel, ns_sampling, LakeData, get_data\n",
    "from pumahu.visualise import trellis_plot, TrellisPlot, mcmc_heat_input, heat_vs_rsam, plot_qin_uks\n",
    "from pumahu.uks import UnscentedKalmanSmoother"
   ]
  },
  {
   "cell_type": "code",
   "execution_count": null,
   "metadata": {},
   "outputs": [],
   "source": [
    "def xr2xr(xdfin):\n",
    "    \"\"\"\n",
    "    Helper function to convert old netcdf file structure to new\n",
    "    \"\"\"\n",
    "    new_exp = np.zeros((xdfin['exp'].shape[0], xdfin['exp'].shape[1], 2))\n",
    "    new_exp[:, :, 0] = xdfin['exp'].values[:]\n",
    "    new_exp[:, :, 1] = xdfin['var'].values[:]\n",
    "\n",
    "    return xr.Dataset({'exp': (('dates', 'parameters', 'val_std'), new_exp)},\n",
    "                      {'dates': xdfin.dates.values,\n",
    "                       'parameters': xdfin.parameters.values,\n",
    "                       'val_std': ['val', 'std']})"
   ]
  },
  {
   "cell_type": "markdown",
   "metadata": {},
   "source": [
    "## Table of contents\n",
    "---------------------------\n",
    "1. [Inversion](#Inversion)\n",
    "2. [Forecasting](#Forecasting)"
   ]
  },
  {
   "cell_type": "markdown",
   "metadata": {},
   "source": [
    "## Inversion"
   ]
  },
  {
   "cell_type": "code",
   "execution_count": null,
   "metadata": {},
   "outputs": [],
   "source": [
    "startdate = datetime.utcnow()-timedelta(days=30)\n",
    "enddate = datetime.utcnow()\n",
    "res_dir = './data'\n",
    "if not os.path.isdir(res_dir):\n",
    "    os.makedirs(res_dir)\n",
    "mout_prior = get_data('./data/outflow_prior.npz')"
   ]
  },
  {
   "cell_type": "code",
   "execution_count": null,
   "metadata": {},
   "outputs": [],
   "source": [
    "ld = LakeData()\n",
    "data = ld.get_data(startdate, enddate)"
   ]
  },
  {
   "cell_type": "code",
   "execution_count": null,
   "metadata": {},
   "outputs": [],
   "source": [
    "data_uks = ld.get_data(startdate, enddate, smoothing='dv')"
   ]
  },
  {
   "cell_type": "code",
   "execution_count": null,
   "metadata": {},
   "outputs": [],
   "source": [
    "uks4 = UnscentedKalmanSmoother(data=data)\n",
    "xds_uks = uks4()"
   ]
  },
  {
   "cell_type": "code",
   "execution_count": null,
   "metadata": {},
   "outputs": [],
   "source": [
    "plot_qin_uks(xds_uks, annotations=True)"
   ]
  },
  {
   "cell_type": "code",
   "execution_count": null,
   "metadata": {},
   "outputs": [],
   "source": [
    "# Setup path for results file\n",
    "tstart = pd.to_datetime(data['dates'].values[0])\n",
    "tend = pd.to_datetime(data['dates'].values[-1])\n",
    "res_fn = 'mcmc_sampling_{:s}_{:s}.nc'\n",
    "res_fn = res_fn.format(tstart.strftime('%Y-%m-%d'),\n",
    "                       tend.strftime('%Y-%m-%d'))\n",
    "res_fn = os.path.join(res_dir, res_fn)\n",
    "\n",
    "ns_sampling(data, results_file=res_fn, nsamples=1001,\n",
    "            nresample=500,\n",
    "            q_in_lim=(0., 1000.), m_in_lim=(0., 20.),\n",
    "            m_out_lim=(0., 20.), new=True,\n",
    "            m_out_prior=mout_prior, tolZ=1e-3, \n",
    "            tolH=3., H=6., ws=4.5, seed=-1, intmethod='euler',\n",
    "            gradient=False)"
   ]
  },
  {
   "cell_type": "code",
   "execution_count": null,
   "metadata": {},
   "outputs": [],
   "source": [
    "xdf = xr.open_dataset(res_fn)"
   ]
  },
  {
   "cell_type": "code",
   "execution_count": null,
   "metadata": {},
   "outputs": [],
   "source": [
    "trellis_plot(xds_uks, data2=xdf)"
   ]
  },
  {
   "cell_type": "code",
   "execution_count": null,
   "metadata": {},
   "outputs": [],
   "source": [
    "_ = mcmc_heat_input(xdf, filename='heat.png')"
   ]
  },
  {
   "cell_type": "code",
   "execution_count": null,
   "metadata": {},
   "outputs": [],
   "source": [
    "_ = heat_vs_rsam(xdf)"
   ]
  },
  {
   "cell_type": "code",
   "execution_count": null,
   "metadata": {},
   "outputs": [],
   "source": [
    "#benchmark_file = './data/benchmarking/forward_2019-01-01_2021-01-11.nc'\n",
    "benchmark_file = None\n",
    "xdft = None\n",
    "if benchmark_file is not None:\n",
    "    xdft = xr2xr(xr.open_dataset(benchmark_file))"
   ]
  },
  {
   "cell_type": "markdown",
   "metadata": {},
   "source": [
    "## Run the estimate for a whole year"
   ]
  },
  {
   "cell_type": "code",
   "execution_count": null,
   "metadata": {},
   "outputs": [],
   "source": [
    "runyear = False"
   ]
  },
  {
   "cell_type": "code",
   "execution_count": null,
   "metadata": {},
   "outputs": [],
   "source": [
    "if runyear: \n",
    "    startdate_year = datetime.utcnow()-timedelta(days=365)\n",
    "    enddate_year = datetime.utcnow()\n",
    "    ld = LakeData()"
   ]
  },
  {
   "cell_type": "code",
   "execution_count": null,
   "metadata": {},
   "outputs": [],
   "source": [
    "if runyear:\n",
    "    data_mcmc = ld.get_data(startdate_year, enddate_year)\n",
    "    xds_mcmc = ns_sampling(data_mcmc, nsamples=1001, nresample=500,\n",
    "                           q_in_lim=(0., 1000.), m_in_lim=(0., 20.),\n",
    "                           m_out_lim=(0., 20.), new=False, tolZ=1e-3, \n",
    "                           tolH=3., H=6., ws=4.5, seed=-1, intmethod='euler',\n",
    "                           gradient=False, results_file='heat_mcmc.nc')"
   ]
  },
  {
   "cell_type": "code",
   "execution_count": null,
   "metadata": {},
   "outputs": [],
   "source": [
    "if runyear:\n",
    "    data_uks_year = ld.get_data(startdate_year, enddate_year, smoothing='dv')\n",
    "    Q = OrderedDict(T=1e-1, M=1e1, X=1e-3, q_in=1e2,\n",
    "                    m_in=1e1, m_out=1e1, h=1e-3, W=1e-3,\n",
    "                    dqi=0, dMi=0, dMo=0, dH=0, \n",
    "                    dW=0)\n",
    "    Q = np.eye(len(Q))*list(Q.values())\n",
    "    uks4 = UnscentedKalmanSmoother(data=data_uks_year, Q=Q)\n",
    "    xds_uks_year = uks4()"
   ]
  },
  {
   "cell_type": "code",
   "execution_count": null,
   "metadata": {},
   "outputs": [],
   "source": [
    "if runyear:\n",
    "    fig = trellis_plot(xds_uks_year, data2=xds_mcmc)\n",
    "    fig.show()"
   ]
  },
  {
   "cell_type": "code",
   "execution_count": null,
   "metadata": {},
   "outputs": [],
   "source": []
  }
 ],
 "metadata": {
  "kernelspec": {
   "display_name": "pumahu",
   "language": "python",
   "name": "pumahu"
  },
  "language_info": {
   "codemirror_mode": {
    "name": "ipython",
    "version": 3
   },
   "file_extension": ".py",
   "mimetype": "text/x-python",
   "name": "python",
   "nbconvert_exporter": "python",
   "pygments_lexer": "ipython3",
   "version": "3.7.10"
  }
 },
 "nbformat": 4,
 "nbformat_minor": 4
}

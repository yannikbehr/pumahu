{
 "cells": [
  {
   "cell_type": "code",
   "execution_count": null,
   "metadata": {},
   "outputs": [],
   "source": [
    "%matplotlib inline\n",
    "from collections import OrderedDict\n",
    "import matplotlib as mpl\n",
    "import matplotlib.pyplot as plt\n",
    "import matplotlib.dates as mdates\n",
    "from datetime import datetime, timedelta\n",
    "import pandas as pd\n",
    "import numpy as np\n",
    "import math\n",
    "import os\n",
    "from scipy.optimize import brentq\n",
    "from sklearn.neighbors import KernelDensity\n",
    "import xarray as xr\n",
    "\n",
    "from filterpy.kalman import UnscentedKalmanFilter as UKF\n",
    "from filterpy.kalman import KalmanFilter as KF\n",
    "from filterpy.kalman import MerweScaledSigmaPoints\n",
    "from filterpy.common import Q_continuous_white_noise\n",
    "\n",
    "from pumahu import Forwardmodel, LakeData, get_data\n",
    "from pumahu.visualise import trellis_plot, TrellisPlot, heat_vs_rsam, plot_qin_uks\n",
    "from pumahu.uks import UnscentedKalmanSmoother\n",
    "from pumahu.fd import fd"
   ]
  },
  {
   "cell_type": "code",
   "execution_count": null,
   "metadata": {},
   "outputs": [],
   "source": [
    "def xr2xr(xdfin):\n",
    "    \"\"\"\n",
    "    Helper function to convert old netcdf file structure to new\n",
    "    \"\"\"\n",
    "    new_exp = np.zeros((xdfin['exp'].shape[0], xdfin['exp'].shape[1], 2))\n",
    "    new_exp[:, :, 0] = xdfin['exp'].values[:]\n",
    "    new_exp[:, :, 1] = xdfin['var'].values[:]\n",
    "\n",
    "    return xr.Dataset({'exp': (('dates', 'parameters', 'val_std'), new_exp)},\n",
    "                      {'dates': xdfin.dates.values,\n",
    "                       'parameters': xdfin.parameters.values,\n",
    "                       'val_std': ['val', 'std']})"
   ]
  },
  {
   "cell_type": "markdown",
   "metadata": {},
   "source": [
    "## Table of contents\n",
    "---------------------------\n",
    "1. [Inversion](#Inversion)\n",
    "2. [Forecasting](#Forecasting)"
   ]
  },
  {
   "cell_type": "markdown",
   "metadata": {},
   "source": [
    "## Inversion"
   ]
  },
  {
   "cell_type": "code",
   "execution_count": null,
   "metadata": {},
   "outputs": [],
   "source": [
    "enddate = datetime(2021,12,18)\n",
    "startdate = enddate - timedelta(days=30)\n",
    "res_dir = './data'\n",
    "if not os.path.isdir(res_dir):\n",
    "    os.makedirs(res_dir)\n",
    "mout_prior = get_data('./data/outflow_prior.npz')"
   ]
  },
  {
   "cell_type": "code",
   "execution_count": null,
   "metadata": {},
   "outputs": [],
   "source": [
    "ld = LakeData()\n",
    "data = ld.get_data(startdate, enddate)"
   ]
  },
  {
   "cell_type": "code",
   "execution_count": null,
   "metadata": {},
   "outputs": [],
   "source": [
    "data_uks = ld.get_data(startdate, enddate, smoothing='dv')"
   ]
  },
  {
   "cell_type": "code",
   "execution_count": null,
   "metadata": {},
   "outputs": [],
   "source": [
    "uks4 = UnscentedKalmanSmoother(data=data)\n",
    "xds_uks = uks4()"
   ]
  },
  {
   "cell_type": "code",
   "execution_count": null,
   "metadata": {},
   "outputs": [],
   "source": [
    "plot_qin_uks(xds_uks, annotations=True)"
   ]
  },
  {
   "cell_type": "code",
   "execution_count": null,
   "metadata": {},
   "outputs": [],
   "source": [
    "xds_fd = fd(data, use_drmg=True)"
   ]
  },
  {
   "cell_type": "code",
   "execution_count": null,
   "metadata": {},
   "outputs": [],
   "source": [
    "trellis_plot(xds_fd, data2=xds_uks)"
   ]
  },
  {
   "cell_type": "code",
   "execution_count": null,
   "metadata": {},
   "outputs": [],
   "source": [
    "_ = heat_vs_rsam(xds_uks)"
   ]
  },
  {
   "cell_type": "code",
   "execution_count": null,
   "metadata": {},
   "outputs": [],
   "source": [
    "#benchmark_file = './data/benchmarking/forward_2019-01-01_2021-01-11.nc'\n",
    "benchmark_file = None\n",
    "xdft = None\n",
    "if benchmark_file is not None:\n",
    "    xdft = xr2xr(xr.open_dataset(benchmark_file))"
   ]
  },
  {
   "cell_type": "markdown",
   "metadata": {},
   "source": [
    "## Run the estimate for a whole year"
   ]
  },
  {
   "cell_type": "code",
   "execution_count": null,
   "metadata": {},
   "outputs": [],
   "source": [
    "runyear = False"
   ]
  },
  {
   "cell_type": "code",
   "execution_count": null,
   "metadata": {},
   "outputs": [],
   "source": [
    "if runyear:\n",
    "    startdate_year = datetime.utcnow()-timedelta(days=365)\n",
    "    enddate_year = datetime.utcnow()\n",
    "    ld = LakeData()"
   ]
  },
  {
   "cell_type": "code",
   "execution_count": null,
   "metadata": {},
   "outputs": [],
   "source": [
    "if runyear:\n",
    "    data_uks_year = ld.get_data(startdate_year, enddate_year, smoothing='dv')\n",
    "    Q = OrderedDict(T=1e-1, M=1e1, X=1e-3, q_in=1e2,\n",
    "                    m_in=1e1, m_out=1e1, h=1e-3, W=1e-3,\n",
    "                    dqi=0, dMi=0, dMo=0, dH=0, \n",
    "                    dW=0)\n",
    "    Q = np.eye(len(Q))*list(Q.values())\n",
    "    uks4 = UnscentedKalmanSmoother(data=data_uks_year, Q=Q)\n",
    "    xds_uks_year = uks4()"
   ]
  },
  {
   "cell_type": "code",
   "execution_count": null,
   "metadata": {},
   "outputs": [],
   "source": [
    "if runyear:\n",
    "    fig = trellis_plot(xds_uks_year)\n",
    "    fig.show()"
   ]
  }
 ],
 "metadata": {
  "kernelspec": {
   "display_name": "pumahu",
   "language": "python",
   "name": "pumahu"
  },
  "language_info": {
   "codemirror_mode": {
    "name": "ipython",
    "version": 3
   },
   "file_extension": ".py",
   "mimetype": "text/x-python",
   "name": "python",
   "nbconvert_exporter": "python",
   "pygments_lexer": "ipython3",
   "version": "3.7.10"
  }
 },
 "nbformat": 4,
 "nbformat_minor": 4
}

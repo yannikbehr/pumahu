{
 "cells": [
  {
   "cell_type": "code",
   "execution_count": null,
   "id": "50f53930-40ea-474c-be2b-473e28dd5804",
   "metadata": {},
   "outputs": [],
   "source": [
    "%matplotlib inline\n",
    "from collections import OrderedDict\n",
    "import matplotlib as mpl\n",
    "import matplotlib.pyplot as plt\n",
    "import matplotlib.dates as mdates\n",
    "from datetime import datetime, timedelta\n",
    "import pandas as pd\n",
    "import numpy as np\n",
    "import math\n",
    "import os\n",
    "from scipy.optimize import brentq\n",
    "from sklearn.neighbors import KernelDensity\n",
    "import xarray as xr\n",
    "\n",
    "from filterpy.kalman import UnscentedKalmanFilter as UKF\n",
    "from filterpy.kalman import KalmanFilter as KF\n",
    "from filterpy.kalman import MerweScaledSigmaPoints\n",
    "from filterpy.common import Q_continuous_white_noise\n",
    "\n",
    "from pumahu import Forwardmodel, ns_sampling, LakeData, get_data\n",
    "from pumahu.visualise import trellis_plot, TrellisPlot, mcmc_heat_input, heat_vs_rsam, plot_qin_uks\n",
    "from pumahu.uks import UnscentedKalmanSmoother\n",
    "from pumahu.fd import fd"
   ]
  },
  {
   "cell_type": "code",
   "execution_count": null,
   "id": "81456f7a-1e30-4700-a49a-1f291a430e3b",
   "metadata": {},
   "outputs": [],
   "source": [
    "from scipy import stats"
   ]
  },
  {
   "cell_type": "code",
   "execution_count": null,
   "id": "5c6c3d58-7430-459b-a538-04c23bf1e2f7",
   "metadata": {},
   "outputs": [],
   "source": [
    "startdate = datetime(2003, 1, 16)\n",
    "#startdate = datetime(2006, 6, 16)\n",
    "enddate = datetime(2010, 1, 29)\n",
    "#enddate = datetime(2008, 1, 1)\n",
    "res_dir = './data'\n",
    "if not os.path.isdir(res_dir):\n",
    "    os.makedirs(res_dir)\n",
    "mout_prior = get_data('./data/outflow_prior.npz')"
   ]
  },
  {
   "cell_type": "code",
   "execution_count": null,
   "id": "c0752b5f-adeb-44dc-a8d2-cd0f790651a1",
   "metadata": {},
   "outputs": [],
   "source": [
    "ld = LakeData(csvfile=get_data('data/data.csv'), enthalpy=3.0, windspeed=3.5,\n",
    "              m_out=0, m_out_err=1.)"
   ]
  },
  {
   "cell_type": "code",
   "execution_count": null,
   "id": "279dbabd-a887-42d9-893d-5adfa808b90d",
   "metadata": {},
   "outputs": [],
   "source": [
    "xdf = ld.get_data(startdate, enddate, smoothing={'Mg': 2.6, 'T': 0.4, 'z': 0.5}, ignore_cache=True)"
   ]
  },
  {
   "cell_type": "code",
   "execution_count": null,
   "id": "9afc3f35-2cd5-4bda-a01a-8dbc56c1c5db",
   "metadata": {},
   "outputs": [],
   "source": [
    "if False:\n",
    "    # set outflow data for dam break in March 2007\n",
    "    xdf.loc['2007-03-23', 'm_out', 'val'] = 80\n",
    "    xdf.loc['2007-03-23', 'm_out', 'std'] = 5."
   ]
  },
  {
   "cell_type": "code",
   "execution_count": null,
   "id": "ec1c03b3-d517-4024-9302-f08be03dfa36",
   "metadata": {},
   "outputs": [],
   "source": [
    "if True:\n",
    "    xdf = xdf.interpolate_na(dim='dates')\n",
    "else:\n",
    "    xdf = xdf.dropna('dates', how='all')"
   ]
  },
  {
   "cell_type": "code",
   "execution_count": null,
   "id": "60c6899f-47e7-44b0-ae9c-d5d72aed0204",
   "metadata": {},
   "outputs": [],
   "source": [
    "if True:\n",
    "    xdf.loc['2007-02-19': '2007-03-24':, 'm_out', 'val'] = 30."
   ]
  },
  {
   "cell_type": "code",
   "execution_count": null,
   "id": "04abf1a9-e673-422a-9a4e-14fe1ad6ab79",
   "metadata": {},
   "outputs": [],
   "source": [
    "P0 = OrderedDict(T=1e0, M=1e0, X=1e0, q_in=1e1,\n",
    "                 m_in=1e1, m_out=1e1, h=1e-1, W=1e-1,\n",
    "                 dqi=1e-2, dMi=1e-3, dMo=1e-3, dH=1e-3, \n",
    "                 dW=1e-3)\n",
    "P0 = np.eye(len(P0))*list(P0.values())\n",
    "\n",
    "Q = OrderedDict(T=1e0, M=1e2, X=1e-1, q_in=3e1,\n",
    "                m_in=1e0, m_out=1e0, h=1e-3, W=1e-3,\n",
    "                dqi=1e-3, dMi=0, dMo=0, dH=0, dW=0)\n",
    "Q = np.eye(len(Q))*list(Q.values())\n",
    "uks = UnscentedKalmanSmoother(data=xdf, Q=Q, P0=P0,\n",
    "                              initvals={'qi': 0., 'm_in': 0., 'm_out': 20., 'X': 5.})\n",
    "#uks = UnscentedKalmanSmoother(data=xdf,\n",
    "#                              initvals={'qi': 0., 'm_in': 0., 'm_out': 20., 'X': 5.})\n",
    "xds_uks = uks(smooth=True) "
   ]
  },
  {
   "cell_type": "code",
   "execution_count": null,
   "id": "9f37f701-5ea5-4e1b-982d-50a95adf1ff8",
   "metadata": {},
   "outputs": [],
   "source": [
    "ft_in = '/home/behrya/workspace/pumahu/tests/data/LAKEOUTm.DAT'\n",
    "qis, Ts, mis, dates = [], [], [], []\n",
    "with open(ft_in, 'r') as fh:\n",
    "    for i in range(4):\n",
    "        fh.readline()\n",
    "    while True:\n",
    "        line = fh.readline()\n",
    "        entries = line.split()\n",
    "        if len(entries) < 18:\n",
    "            break\n",
    "        date = datetime(int(entries[0]),\n",
    "                        int(entries[1]),\n",
    "                        int(entries[2]))\n",
    "        T = float(entries[3])\n",
    "        qi = float(entries[5])\n",
    "        mi = float(entries[7])\n",
    "        qis.append(qi)\n",
    "        Ts.append(T)\n",
    "        mis.append(mi)\n",
    "        dates.append(date)\n",
    "        \n",
    "ndates = len(dates)\n",
    "parameters = ['q_in', 'm_in', 'T']\n",
    "nparams = len(parameters)\n",
    "exp = np.zeros((ndates, nparams, 2))*np.nan\n",
    "m_in_idx = parameters.index('m_in')\n",
    "exp[:, m_in_idx, 0] = mis\n",
    "exp[:, m_in_idx, 1] = np.zeros(ndates)\n",
    "q_in_idx = parameters.index('q_in')\n",
    "exp[:, q_in_idx, 0] = qis\n",
    "exp[:, q_in_idx, 1] = np.zeros(ndates)\n",
    "T_idx = parameters.index('T')\n",
    "exp[:, T_idx, 0] = Ts\n",
    "exp[:, T_idx, 1] = np.zeros(ndates)      \n",
    "res = xr.Dataset({'exp': (('dates', 'parameters', 'val_std'), exp)},\n",
    "                 {'dates': dates,\n",
    "                  'parameters': parameters,\n",
    "                  'val_std': ['val', 'std']})"
   ]
  },
  {
   "cell_type": "code",
   "execution_count": null,
   "id": "d697893f-42c4-4020-a864-0d91bd212c50",
   "metadata": {},
   "outputs": [],
   "source": [
    "trellis_plot(xds_uks, data2=res, dropzeros=False)"
   ]
  },
  {
   "cell_type": "code",
   "execution_count": null,
   "id": "c71208ed-ed67-4c18-9f12-b68d342d0a73",
   "metadata": {},
   "outputs": [],
   "source": [
    "xds_uks.exp.loc[:, 'q_in', 'val'].values"
   ]
  },
  {
   "cell_type": "code",
   "execution_count": null,
   "id": "bfdb7a47-1cbb-46d1-96d2-6909bd0d097e",
   "metadata": {},
   "outputs": [],
   "source": [
    "import plotly.graph_objects as go\n",
    "from plotly.subplots import make_subplots\n",
    "data = xds_uks.exp.loc[:, 'q_in', 'val'].values[:]\n",
    "sigma = xds_uks.exp.loc[:, 'q_in', 'std'].values[:]\n",
    "# Convert MW to TJ by multiplying with 86400 s\n",
    "data *= 0.864\n",
    "sigma *= 0.864\n",
    "# Convert to kWh by deviding with 3.6e6 J\n",
    "data /= 3.6\n",
    "sigma /= 3.6\n",
    "cum_mean = np.cumsum(data)\n",
    "cum_std = np.sqrt(np.cumsum(sigma))\n",
    "dates = pd.to_datetime(xds_uks.dates.values)\n",
    "fig = make_subplots(specs=[[{\"secondary_y\": True}]])\n",
    "#fig = go.Figure()\n",
    "fig.add_trace(go.Scatter(x=dates, y=cum_mean, mode='lines',\n",
    "                         showlegend=False), secondary_y=False)\n",
    "fig.add_trace(go.Scatter(name='Upper Bound',\n",
    "                         x=dates,\n",
    "                         y=cum_mean + 3*cum_std,\n",
    "                         mode='lines',\n",
    "                         marker=dict(color=\"#444\"),\n",
    "                         line=dict(width=0),\n",
    "                         showlegend=False), secondary_y=False)\n",
    "fig.add_trace(go.Scatter(name='Lower Bound',\n",
    "                         x=dates,\n",
    "                         y=cum_mean - 3*cum_std,\n",
    "                         mode='lines',\n",
    "                         marker=dict(color=\"#444\"),\n",
    "                         line=dict(width=0),\n",
    "                         fillcolor='rgba(68, 68, 68, 0.3)',\n",
    "                         fill='tonexty',\n",
    "                         showlegend=False), secondary_y=False)\n",
    "df_modis = pd.read_csv(get_data('data/41561_2021_705_MOESM2_ESM.csv'), usecols=[5, 6, 7, 8],\n",
    "                        index_col=0, dayfirst=True, parse_dates=True)\n",
    "df_modis = df_modis.loc[str(dates[0]):str(dates[-1])]\n",
    "fig.add_trace(go.Scatter(x=df_modis.index, y=df_modis['Ruapehu_anomaly'].values), secondary_y=True)\n",
    "fig.update_yaxes(title='$10^6 kWh$')\n",
    "fig.update_layout(font_size=22)"
   ]
  },
  {
   "cell_type": "code",
   "execution_count": null,
   "id": "6ccf9ca0-7d7e-46a4-a0b5-490627376814",
   "metadata": {
    "jupyter": {
     "outputs_hidden": true
    },
    "tags": []
   },
   "outputs": [],
   "source": [
    "plot_wavelet_analysis(dates, data, nscales=256)"
   ]
  },
  {
   "cell_type": "code",
   "execution_count": null,
   "id": "65724a30-1f11-489b-b23b-ae0182c7a5fa",
   "metadata": {},
   "outputs": [],
   "source": [
    "data2.shape"
   ]
  },
  {
   "cell_type": "code",
   "execution_count": null,
   "id": "bd269fe9-5c34-4893-9bb6-59bbe02bb1aa",
   "metadata": {},
   "outputs": [],
   "source": [
    "plt.specgram(data2, 100, 1, detrend='mean', noverlap=50)"
   ]
  },
  {
   "cell_type": "code",
   "execution_count": null,
   "id": "07672b53-29c8-49de-9eb3-f6670fb172a8",
   "metadata": {},
   "outputs": [],
   "source": [
    "startdate2 = '1993-4-20'\n",
    "enddate2 = '1994-7-4'\n",
    "ld2 = LakeData(enthalpy=3.0, windspeed=3.5, m_out=0, m_out_err=10.)\n",
    "xdf2 = ld2.get_data(startdate2, enddate2, smoothing={'Mg': 2.6, 'T': 0.4, 'z': 0.5}, ignore_cache=True)\n",
    "xdf2 = xdf2.interpolate_na(dim='dates')\n",
    "\n",
    "P0 = OrderedDict(T=1e0, M=1e0, X=1e0, q_in=1e1,\n",
    "                 m_in=1e1, m_out=1e1, h=1e-1, W=1e-1,\n",
    "                 dqi=1e-2, dMi=1e-3, dMo=1e-3, dH=1e-3, \n",
    "                 dW=1e-3)\n",
    "P0 = np.eye(len(P0))*list(P0.values())\n",
    "Q = OrderedDict(T=1e0, M=1e2, X=1e-1, q_in=3e1,\n",
    "                m_in=1e0, m_out=1e0, h=1e-3, W=1e-3,\n",
    "                dqi=1e-3, dMi=0, dMo=0, dH=0, dW=0)\n",
    "Q = np.eye(len(Q))*list(Q.values())\n",
    "uks = UnscentedKalmanSmoother(data=xdf2, Q=Q, P0=P0,\n",
    "                              initvals={'qi': 0., 'm_in': 0., 'm_out': 20., 'X': 5.})\n",
    "xds_uks = uks() "
   ]
  },
  {
   "cell_type": "code",
   "execution_count": null,
   "id": "b12a1b24-faec-4ea2-a633-f6d36fd56d1a",
   "metadata": {},
   "outputs": [],
   "source": [
    "trellis_plot(xds_uks.loc[dict(dates=slice(startdate2, '1994-2-14'))], dropzeros=False)"
   ]
  },
  {
   "cell_type": "code",
   "execution_count": null,
   "id": "ada537d8-a172-4553-8731-b5f54b06bdda",
   "metadata": {},
   "outputs": [],
   "source": [
    "xds_uks.loc[dict(dates=slice(startdate2, '1994-4-1'))]"
   ]
  },
  {
   "cell_type": "code",
   "execution_count": null,
   "id": "5479c23c-cfa9-4469-8434-aeae5c59694e",
   "metadata": {},
   "outputs": [],
   "source": []
  }
 ],
 "metadata": {
  "kernelspec": {
   "display_name": "pumahu",
   "language": "python",
   "name": "pumahu"
  },
  "language_info": {
   "codemirror_mode": {
    "name": "ipython",
    "version": 3
   },
   "file_extension": ".py",
   "mimetype": "text/x-python",
   "name": "python",
   "nbconvert_exporter": "python",
   "pygments_lexer": "ipython3",
   "version": "3.7.10"
  }
 },
 "nbformat": 4,
 "nbformat_minor": 5
}

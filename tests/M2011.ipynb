{
 "cells": [
  {
   "cell_type": "code",
   "execution_count": 3,
   "metadata": {
    "collapsed": false,
    "deletable": true,
    "editable": true
   },
   "outputs": [
    {
     "name": "stdout",
     "output_type": "stream",
     "text": [
      "   231051.938       11210.6465    \n"
     ]
    }
   ],
   "source": [
    "program fullness\n",
    "    implicit none\n",
    "    REAL A,F,VOL\n",
    "    DOUBLE PRECISION H,V,V1\n",
    "    F=2540.4\n",
    "    IF(F .LT. 2400.) THEN! Overflowing Case\n",
    "       H = 2529.4\n",
    "       VOL = (4.747475*H*H*H-34533.8*H*H+83773360.*H-67772125000.)/1000.\n",
    "       A = 193400\n",
    "    ELSE ! Calculate from absolute level\n",
    "       H = F\n",
    "       V = 4.747475*H*H*H-34533.8*H*H+83773360.*H-67772125000.\n",
    "       H = H + 1.0\n",
    "       V1 = 4.747475*H*H*H-34533.8*H*H+83773360.*H-67772125000.\n",
    "       A = V1 - V\n",
    "       VOL = V/1000.\n",
    "    END IF\n",
    "    print *, A, VOL\n",
    "end program"
   ]
  },
  {
   "cell_type": "markdown",
   "metadata": {
    "deletable": true,
    "editable": true
   },
   "source": [
    "## This is Tony's code"
   ]
  },
  {
   "cell_type": "code",
   "execution_count": 4,
   "metadata": {
    "collapsed": false,
    "deletable": true,
    "editable": true
   },
   "outputs": [
    {
     "name": "stdout",
     "output_type": "stream",
     "text": [
      "          31\n"
     ]
    }
   ],
   "source": [
    "program dayno\n",
    "    IMPLICIT NONE\n",
    "    INTEGER YR,MO,DY\n",
    "    INTEGER I,IYR, NO\n",
    "    IYR=2000\n",
    "    MO=2\n",
    "    DY=1\n",
    "    I=0\n",
    "    YR=IYR-2000\n",
    "    IF(MO.LE.2) GOTO 10\n",
    "    I= MO+3-MO/9\n",
    "    IF(YR.EQ.(YR/4)*4) I=I-2\n",
    "10 CONTINUE\n",
    "    I=I/2\n",
    "    NO=DY-1+(MO-1)*31-I+(YR-1)/4 + YR*365\n",
    "    print *, NO\n",
    "end program"
   ]
  },
  {
   "cell_type": "code",
   "execution_count": 1,
   "metadata": {
    "collapsed": false,
    "deletable": true,
    "editable": true
   },
   "outputs": [
    {
     "name": "stdout",
     "output_type": "stream",
     "text": [
      "   4.87545872       20.6102772    \n"
     ]
    }
   ],
   "source": [
    "program es\n",
    "! E loss from lake surface in TJ/day\n",
    "! Equations apply for nominal surface area of 200000 square metres\n",
    "! Since area is only to a small power, this error is negligible\n",
    "! -----------------------------------------------------------------------------\n",
    "    IMPLICIT NONE\n",
    "    REAL T,W,A,VOL,LOSS,EV\n",
    "    REAL ER,EE,EC,Efree,Eforced\n",
    "    REAL TK,TL,L\n",
    "    REAL VP,VP1,VD,Ratio\n",
    "    A = 200000\n",
    "    W = 5.0\n",
    "    T = 35\n",
    "    L = 500 ! Characteristic length of lake\n",
    "    !  Expressions for H2O properties as function of temperature\n",
    "    ! Vapour Pressure Function from CIMO Guide (WMO, 2008)\n",
    "    T = T - 1.\n",
    "    VP = 6.112 * exp(17.62*T/(243.12+T))\n",
    "    ! VP1= 6.112 * exp(17.62*(T-1.)/(242.12+T)) ! T - 1 for surface T\n",
    "    ! Vapour Density from Hyperphysics Site\n",
    "    VD = .006335 + .0006718*T-.000020887*T*T+.00000073095*T*T*T\n",
    "\n",
    "    !First term is for radiation, Power(W) = aC(Tw^4 - Ta^4)A \n",
    "    !Temperatures absolute, a is emissivity, C Stefans Constant \n",
    "    TK = T + 273.15\n",
    "    TL = 0.9 + 273.15! 0.9 C is air temperature\n",
    "    ER = 5.67E-8 * A * (0.97*TK*TK*TK*TK -  0.8*TL*TL*TL*TL) \n",
    "\n",
    "    !  Free convection formula from Adams et al(1990) Power (W) = A * factor * delT^1/3 * (es-ea)\n",
    "    !  where factor = 2.3 at 25C and 18% less at 67 C, hence factor = 2.55 - 0.01 * Twr.\n",
    "    !  For both delT and es, we make a 1 C correction, for surface temp below bulk water temp \n",
    "    !  SVP at average air tmperature 6.5 mBar   \n",
    "\n",
    "    Efree = A * 2.2 * (T - 0.9) ** (1/3.0) * (VP - 6.5)\n",
    "\n",
    "    !  Forced convection by Satori's Equation  Evaporation (kg/s per m2)= (0.00407 * W**0.8 / L**0.2 - 0.01107/L)(Pw-Pd)/P\n",
    "    !  Latent heat of vapourization about 2400 kJ/kg in range 20 - 60 C, Atmospheric Pressure 750 mBar at Crater Lake\n",
    "\n",
    "    Eforced = A * (0.00407 * W**0.8 / L**0.2 - 0.01107/L) * (VP-6.5)/800. * 2400000! W\n",
    "    EE = sqrt(Efree*Efree + Eforced*Eforced)\n",
    "\n",
    "    !  The ratio of Heat Loss by Convection to that by Evaporation is rhoCp/L * (Tw - Ta)/(qw - qa)\n",
    "    !  rho is air density .948 kg/m3, Cp Specific Heat of Air 1005 J/kg degC, qw & qa are Sat Vap Density \n",
    "\n",
    "    Ratio = .948 * (1005 /2400000.) * (T - 0.9) / (VD - .0022) \n",
    "\n",
    "    !  The power calculation is in W. Calculate Energy Loss (TW/day) and\n",
    "    !  evaporative volume loss in kT/day\n",
    "    EV = 86400 * EE / 2.4E12! kT/day\n",
    "    LOSS =(ER + EE*(1+Ratio))*86400*1.0E-12  ! TW/day\n",
    "    print *, ev, loss\n",
    "end program\n"
   ]
  },
  {
   "cell_type": "code",
   "execution_count": null,
   "metadata": {
    "collapsed": true,
    "deletable": true,
    "editable": true
   },
   "outputs": [],
   "source": []
  }
 ],
 "metadata": {
  "kernelspec": {
   "display_name": "Fortran",
   "language": "Fortran",
   "name": "fortran_spec"
  },
  "language_info": {
   "file_extension": "f90",
   "mimetype": "text/plain",
   "name": "fortran"
  }
 },
 "nbformat": 4,
 "nbformat_minor": 2
}

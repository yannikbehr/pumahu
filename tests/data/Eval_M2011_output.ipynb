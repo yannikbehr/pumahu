{
 "cells": [
  {
   "cell_type": "markdown",
   "metadata": {},
   "source": [
    "### Analyse differences in results after changing original Fortran codes to make them resemble more the equations in the underlying publication"
   ]
  },
  {
   "cell_type": "code",
   "execution_count": null,
   "metadata": {
    "collapsed": true,
    "deletable": true,
    "editable": true
   },
   "outputs": [],
   "source": [
    "%matplotlib inline\n",
    "import numpy as np\n",
    "import matplotlib.pyplot as plt\n",
    "from matplotlib.dates import date2num\n",
    "import pandas as pd\n",
    "from collections import defaultdict"
   ]
  },
  {
   "cell_type": "code",
   "execution_count": null,
   "metadata": {
    "collapsed": false,
    "deletable": true,
    "editable": true
   },
   "outputs": [],
   "source": [
    "def load_test_results(fn):\n",
    "    with open(fn) as f:\n",
    "        # skip header lines\n",
    "        for i in range(4):\n",
    "            f.readline()\n",
    "        # now read until the next empty line\n",
    "        data = defaultdict(list)\n",
    "        dates = []\n",
    "        while True:\n",
    "            l = f.readline()\n",
    "            if l == '\\n':\n",
    "                break\n",
    "            yr, mon, day, temp, stfl, pwr, evfl, fmelt, inf, drm, mmp,\\\n",
    "                fmg, fcl, o18, o18m, o18f, h2, h22, m = l.split()\n",
    "            dates.append(np.datetime64('{}-{:02d}-{:02d}'.format(yr, int(mon), int(day))))\n",
    "            data['t'].append(float(temp))\n",
    "            data['steam'].append(float(stfl))\n",
    "            data['pwr'].append(float(pwr))\n",
    "            data['evfl'].append(float(evfl))\n",
    "            data['fmelt'].append(float(fmelt))\n",
    "            data['inf'].append(float(inf))\n",
    "            data['fmg'].append(float(fmg))\n",
    "            data['fcl'].append(float(fcl))\n",
    "            data['mass'].append(float(m))\n",
    "\n",
    "    return pd.DataFrame(data, index=dates)\n"
   ]
  },
  {
   "cell_type": "code",
   "execution_count": null,
   "metadata": {
    "collapsed": false,
    "deletable": true,
    "editable": true
   },
   "outputs": [],
   "source": [
    "df1 = load_test_results('data/LAKEOUTm_old.DAT')\n",
    "df2 = load_test_results('data/LAKEOUTm.DAT')"
   ]
  },
  {
   "cell_type": "code",
   "execution_count": null,
   "metadata": {
    "collapsed": false
   },
   "outputs": [],
   "source": [
    "dates = date2num(df1.index.to_pydatetime())\n",
    "plt.figure(figsize=(14,10))\n",
    "plt.subplot(331)\n",
    "diff = df1['t']-df2['t']\n",
    "plt.plot_date(dates,diff)\n",
    "plt.title('Temperature')\n",
    "plt.subplot(332)\n",
    "diff = df1['steam']-df2['steam']\n",
    "plt.plot_date(dates,diff)\n",
    "plt.title('Steam mass')\n",
    "plt.subplot(333)\n",
    "diff = df1['pwr']-df2['pwr']\n",
    "plt.plot_date(dates,diff)\n",
    "plt.title('Steam heat')\n",
    "plt.subplot(334)\n",
    "diff = df1['evfl']-df2['evfl']\n",
    "plt.plot_date(dates,diff)\n",
    "plt.title('Evaporation flow')\n",
    "plt.subplot(335)\n",
    "diff = df1['fmelt']-df2['fmelt']\n",
    "plt.plot_date(dates,diff)\n",
    "plt.title('Melt flow')\n",
    "plt.subplot(336)\n",
    "diff = df1['inf']-df2['inf']\n",
    "plt.plot_date(dates,diff)\n",
    "plt.title('Inflow')\n",
    "plt.subplot(337)\n",
    "diff = df1['fmg']-df2['fmg']\n",
    "plt.plot_date(dates,diff)\n",
    "plt.title('Mg++ outflow')\n",
    "plt.subplot(338)\n",
    "diff = df1['fcl']-df2['fcl']\n",
    "plt.plot_date(dates,diff)\n",
    "plt.title('Cl- outflow')\n",
    "plt.subplot(339)\n",
    "diff = df1['mass']-df2['mass']\n",
    "plt.plot_date(dates,diff)\n",
    "plt.title('Total lake mass')"
   ]
  },
  {
   "cell_type": "code",
   "execution_count": null,
   "metadata": {
    "collapsed": true
   },
   "outputs": [],
   "source": []
  }
 ],
 "metadata": {
  "kernelspec": {
   "display_name": "Python 3",
   "language": "python",
   "name": "python3"
  },
  "language_info": {
   "codemirror_mode": {
    "name": "ipython",
    "version": 3
   },
   "file_extension": ".py",
   "mimetype": "text/x-python",
   "name": "python",
   "nbconvert_exporter": "python",
   "pygments_lexer": "ipython3",
   "version": "3.5.2"
  }
 },
 "nbformat": 4,
 "nbformat_minor": 2
}

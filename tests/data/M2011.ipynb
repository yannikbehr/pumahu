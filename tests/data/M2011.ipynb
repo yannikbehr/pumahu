{
 "cells": [
  {
   "cell_type": "code",
   "execution_count": 7,
   "metadata": {},
   "outputs": [
    {
     "name": "stdout",
     "output_type": "stream",
     "text": [
      "   4.50000000    \n"
     ]
    }
   ],
   "source": [
    "program esol\n",
    "    integer ndays,MO\n",
    "    real A\n",
    "    MO = 1\n",
    "    A = 2e5\n",
    "    ndays = 1\n",
    "    E= ndays*A* 0.000015 * (1 + 0.5*COS(((MO-1)*3.14)/6.0))\n",
    "    print *, E\n",
    "end program"
   ]
  },
  {
   "cell_type": "code",
   "execution_count": 11,
   "metadata": {},
   "outputs": [
    {
     "name": "stdout",
     "output_type": "stream",
     "text": [
      "   4.87545872       20.6102772    \n"
     ]
    }
   ],
   "source": [
    "program ES\n",
    "    ! E loss from lake surface in TJ/day\n",
    "    ! Equations apply for nominal surface area of 200000 square metres\n",
    "    ! Since area is only to a small power, this error is negligible\n",
    "    IMPLICIT NONE\n",
    "    REAL T,W,A,LOSS,EV\n",
    "    REAL ER,EE,EC,Efree,Eforced\n",
    "    REAL TK,TL,L,Ts\n",
    "    REAL VP,VP1,VD,Ratio\n",
    "\n",
    "    A = 2e5\n",
    "    W = 5.\n",
    "    T = 35.\n",
    "    \n",
    "    L = 500 ! Characteristic length of lake\n",
    "    ! Expressions for H2O properties as function of temperature\n",
    "    ! Vapour Pressure Function from CIMO Guide (WMO, 2008)\n",
    "    Ts = T - 1.0\n",
    "    VP = 6.112 * exp(17.62*Ts/(243.12+Ts))\n",
    "    ! Vapour Density from Hyperphysics Site\n",
    "    VD = .006335 + .0006718*Ts-.000020887*Ts*Ts+.00000073095*Ts*Ts*Ts\n",
    "\n",
    "    ! First term is for radiation, Power(W) = C*A*(e_w*Tw^4 - e_a*Ta^4)\n",
    "    ! Temperatures absolute, a is emissivity, C Stefans Constant   \n",
    "    TK = Ts + 273.15\n",
    "    TL = 0.9 + 273.15 ! 0.9 C is air temperature\n",
    "    ER = 5.67E-8 * A * (0.97*TK*TK*TK*TK -  0.8*TL*TL*TL*TL)\n",
    "\n",
    "    ! Free convection formula from Adams et al(1990) Power (W) = A * factor * delT^1/3 * (es-ea)\n",
    "    ! where factor = 2.3 at 25C and 18% less at 67 C, hence factor = 2.55 - 0.01 * Twr.\n",
    "    ! For both delT and es, we make a 1 C correction, for surface temp below bulk water temp \n",
    "    ! SVP at average air tmperature 6.5 mBar   \n",
    "\n",
    "    Efree = A * 2.2 * (Ts - 0.9) ** (1/3.0) * (VP - 6.5)\n",
    "\n",
    "    ! Forced convection by Satori's Equation  Evaporation (kg/s per m2)= (0.00407 * W**0.8 / L**0.2 - 0.01107/L)(Pw-Pd)/P\n",
    "    ! Latent heat of vapourization about 2400 kJ/kg in range 20 - 60 C, Atmospheric Pressure 750 mBar at Crater Lake\n",
    "\n",
    "    Eforced = A * (0.00407 * W**0.8 / L**0.2 - 0.01107/L) * (VP-6.5)/800. * 2400000! W\n",
    "    EE = sqrt(Efree*Efree + Eforced*Eforced)\n",
    "\n",
    "    ! The ratio of Heat Loss by Convection to that by Evaporation is rhoCp/L * (Tw - Ta)/(qw - qa)\n",
    "    ! rho is air density .948 kg/m3, Cp Specific Heat of Air 1005 J/kg degC, qw & qa are Sat Vap Density \n",
    "\n",
    "    Ratio = .948 * (1005 /2400000.) * (Ts - 0.9) / (VD - .0022)\n",
    "\n",
    "    ! The power calculation is in W. Calculate Energy Loss (TW/day) and\n",
    "    ! evaporative volume loss in kT/day\n",
    "    EV = 86400 * EE / 2.4E12 ! kT/day\n",
    "    LOSS =(ER + EE*(1+Ratio))*86400*1.0E-12  ! TW/day\n",
    "\n",
    "\n",
    "    !-Equation values MW (for 200000 sq. metre lake)\n",
    "    print *, EV, LOSS\n",
    "\n",
    "end program"
   ]
  },
  {
   "cell_type": "code",
   "execution_count": 15,
   "metadata": {},
   "outputs": [
    {
     "name": "stdout",
     "output_type": "stream",
     "text": [
      "   196370.188       8880.29883    \n"
     ]
    }
   ],
   "source": [
    "program fullness\n",
    "    IMPLICIT NONE\n",
    "    REAL A,F,VOL\n",
    "    REAL(kind=8) H,V,V1\n",
    "    \n",
    "    F = 2529.4\n",
    "    IF(F .LT. 2400.) THEN ! Overflowing Case\n",
    "      H = 2529.4\n",
    "      VOL = (4.747475*H*H*H-34533.8*H*H+83773360.*H-67772125000.)/1000.\n",
    "      A = 193400\n",
    "    ELSE ! Calculate from absolute level\n",
    "       H = F\n",
    "       V = 4.747475*H*H*H-34533.8*H*H+83773360.*H-67772125000.\n",
    "       H = H + 1.0\n",
    "       V1 = 4.747475*H*H*H-34533.8*H*H+83773360.*H-67772125000.\n",
    "       A = V1 - V\n",
    "       VOL = V/1000.\n",
    "    END IF\n",
    "    print *, A, VOL\n",
    "end program\n",
    "\n"
   ]
  },
  {
   "cell_type": "code",
   "execution_count": 18,
   "metadata": {},
   "outputs": [
    {
     "name": "stdout",
     "output_type": "stream",
     "text": [
      "        1099\n"
     ]
    }
   ],
   "source": [
    "program DAYNO\n",
    "    ! Calculates Days since 2000 from Year,Month,Day\n",
    "    IMPLICIT NONE\n",
    "    INTEGER YR,MO,DY\n",
    "    INTEGER I,IYR, NO\n",
    "    IYR = 2003\n",
    "    MO = 1\n",
    "    DY = 5\n",
    "    I=0\n",
    "    YR=IYR-2000\n",
    "    IF(MO.LE.2) GOTO 10\n",
    "    I= MO+3-MO/9\n",
    "    IF(YR.EQ.(YR/4)*4) I=I-2\n",
    "    10 CONTINUE\n",
    "    I=I/2\n",
    "    NO=DY-1+(MO-1)*31-I+(YR-1)/4 + YR*365\n",
    "    print *, NO\n",
    "end program\n",
    "\n"
   ]
  },
  {
   "cell_type": "code",
   "execution_count": 19,
   "metadata": {},
   "outputs": [
    {
     "name": "stdout",
     "output_type": "stream",
     "text": [
      "        2003           1           5\n"
     ]
    }
   ],
   "source": [
    "program DATEF\n",
    "    !--Calculates Year,Month,Day from days since 2000\n",
    "    IMPLICIT NONE\n",
    "    INTEGER YR,MO,DY,NO,A,B,C,P,Q,R,S\n",
    "    INTEGER I,IYR\n",
    "    NO = 1099\n",
    "    YR=NO/365\n",
    " 10 DY=NO-YR*365-(YR-1)/4\n",
    "    IF(DY.GE.0) GOTO 20\n",
    "    YR=YR-1\n",
    "    GOTO 10\n",
    " 20 MO=DY/31+1\n",
    "    C=0\n",
    "    IF(YR.EQ.(YR/4)*4) C=2\n",
    " 30 A=MO\n",
    "    B=MO+1\n",
    "    R=0\n",
    "    S=0\n",
    "    IF(A.GT.2) R=(A+3-A/9-C)/2\n",
    "    P=(A-1)*31-R\n",
    "    IF(B.GT.2) S=(B+3-B/9-C)/2\n",
    "    Q=(B-1)*31-S\n",
    "    IF((DY.GE.P).AND.(DY.LT.Q)) GOTO 40\n",
    "    MO=MO+1\n",
    "    GOTO 30\n",
    " 40 DY=DY-P+1\n",
    "    YR=YR+2000\n",
    "    print *, YR, MO, DY\n",
    "end program\n"
   ]
  },
  {
   "cell_type": "code",
   "execution_count": null,
   "metadata": {},
   "outputs": [],
   "source": []
  }
 ],
 "metadata": {
  "kernelspec": {
   "display_name": "Fortran",
   "language": "python",
   "name": "fortran"
  },
  "language_info": {
   "file_extension": "f90",
   "mimetype": "text/plain",
   "name": "fortran"
  }
 },
 "nbformat": 4,
 "nbformat_minor": 2
}
